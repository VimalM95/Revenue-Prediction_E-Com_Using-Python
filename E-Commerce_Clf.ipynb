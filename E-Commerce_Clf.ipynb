{
 "cells": [
  {
   "cell_type": "markdown",
   "id": "2fce9aa4-8eed-4694-9266-20567b19abc3",
   "metadata": {},
   "source": [
    "Notebook Author: Vimal Mothi\n",
    "\n",
    "Business Problem: An E-commerce store is looking to study its current visitors data to understand thier pattern and behaviours. In view of enhancing marketing stratergies, the business is looking to develop a predictive model capable of predictor if a visitor would generate revenue in a given session."
   ]
  },
  {
   "cell_type": "markdown",
   "id": "88c625a5-b31a-47d6-b7a0-c3b166d09192",
   "metadata": {
    "tags": []
   },
   "source": [
    "Split Dataset into Training set and Test set\n",
    "-----------------------------------------------\n",
    "The aim of this section this is to create and maintain a test set as an unseen dataset.\n",
    "This helps avoid the possibility of any data leakage during preprocessing."
   ]
  },
  {
   "cell_type": "code",
   "execution_count": 3,
   "id": "94b8269a-4e80-441a-8fe0-d5675f558f57",
   "metadata": {
    "tags": []
   },
   "outputs": [],
   "source": [
    "dataset = pd.read_csv('/notebooks/E-Commerce_Purchasing_Cls/online_shoppers_intention.csv')"
   ]
  },
  {
   "cell_type": "code",
   "execution_count": 27,
   "id": "c1155b68-f098-4fac-9f9a-561c3a2efb81",
   "metadata": {
    "execution": {
     "iopub.execute_input": "2022-10-20T10:08:02.842285Z",
     "iopub.status.busy": "2022-10-20T10:08:02.841951Z",
     "iopub.status.idle": "2022-10-20T10:08:02.849695Z",
     "shell.execute_reply": "2022-10-20T10:08:02.848836Z",
     "shell.execute_reply.started": "2022-10-20T10:08:02.842262Z"
    }
   },
   "outputs": [
    {
     "name": "stdout",
     "output_type": "stream",
     "text": [
      "False    84.525547\n",
      "True     15.474453\n",
      "Name: Revenue, dtype: float64\n",
      "False    10422\n",
      "True      1908\n",
      "Name: Revenue, dtype: int64\n"
     ]
    }
   ],
   "source": [
    "# Check proportions of dataset and ensure training set and test set maintains the same proportions of target classes\n",
    "\n",
    "print((dataset['Revenue'].value_counts()) / len(dataset) * 100)\n",
    "print(dataset['Revenue'].value_counts())"
   ]
  },
  {
   "cell_type": "code",
   "execution_count": 29,
   "id": "335bdb0f-cca6-435f-a466-05e50ed268ad",
   "metadata": {
    "execution": {
     "iopub.execute_input": "2022-10-20T10:10:55.965085Z",
     "iopub.status.busy": "2022-10-20T10:10:55.964732Z",
     "iopub.status.idle": "2022-10-20T10:10:55.978012Z",
     "shell.execute_reply": "2022-10-20T10:10:55.977224Z",
     "shell.execute_reply.started": "2022-10-20T10:10:55.965060Z"
    }
   },
   "outputs": [],
   "source": [
    "df_test = dataset.groupby('Revenue', group_keys=False).apply(lambda x: x.sample(frac=0.10))\n",
    "df_main = dataset.loc[~dataset.index.isin(df_test.index)]"
   ]
  },
  {
   "cell_type": "markdown",
   "id": "c5a8b4c8-e06d-4df4-85d0-3ffed776bbe2",
   "metadata": {},
   "source": [
    "Dataset is split into df_main and df_test(unseen test dataset)"
   ]
  },
  {
   "cell_type": "code",
   "execution_count": 30,
   "id": "703c3b5b-ecf8-45f0-9040-15a1f90e5cee",
   "metadata": {
    "execution": {
     "iopub.execute_input": "2022-10-20T10:10:57.320294Z",
     "iopub.status.busy": "2022-10-20T10:10:57.319771Z",
     "iopub.status.idle": "2022-10-20T10:10:57.329836Z",
     "shell.execute_reply": "2022-10-20T10:10:57.328704Z",
     "shell.execute_reply.started": "2022-10-20T10:10:57.320260Z"
    }
   },
   "outputs": [
    {
     "name": "stdout",
     "output_type": "stream",
     "text": [
      "False    84.509327\n",
      "True     15.490673\n",
      "Name: Revenue, dtype: float64\n",
      "False    1042\n",
      "True      191\n",
      "Name: Revenue, dtype: int64\n"
     ]
    }
   ],
   "source": [
    "print((df_test['Revenue'].value_counts()) / len(df_test) * 100)\n",
    "print(df_test['Revenue'].value_counts())"
   ]
  },
  {
   "cell_type": "code",
   "execution_count": 31,
   "id": "efc6c066-ddbf-457a-942a-e2055ab1d382",
   "metadata": {
    "execution": {
     "iopub.execute_input": "2022-10-20T10:11:00.520675Z",
     "iopub.status.busy": "2022-10-20T10:11:00.520265Z",
     "iopub.status.idle": "2022-10-20T10:11:00.529162Z",
     "shell.execute_reply": "2022-10-20T10:11:00.528233Z",
     "shell.execute_reply.started": "2022-10-20T10:11:00.520639Z"
    }
   },
   "outputs": [
    {
     "name": "stdout",
     "output_type": "stream",
     "text": [
      "False    84.52735\n",
      "True     15.47265\n",
      "Name: Revenue, dtype: float64\n",
      "False    9380\n",
      "True     1717\n",
      "Name: Revenue, dtype: int64\n"
     ]
    }
   ],
   "source": [
    "print((df_main['Revenue'].value_counts()) / len(df_main) * 100)\n",
    "print(df_main['Revenue'].value_counts())"
   ]
  },
  {
   "cell_type": "code",
   "execution_count": 40,
   "id": "0a266b0d-1ee3-48a2-abd1-cc860e20412e",
   "metadata": {
    "execution": {
     "iopub.execute_input": "2022-10-20T10:12:22.309211Z",
     "iopub.status.busy": "2022-10-20T10:12:22.308875Z",
     "iopub.status.idle": "2022-10-20T10:12:22.314344Z",
     "shell.execute_reply": "2022-10-20T10:12:22.313616Z",
     "shell.execute_reply.started": "2022-10-20T10:12:22.309187Z"
    }
   },
   "outputs": [
    {
     "name": "stdout",
     "output_type": "stream",
     "text": [
      "Dataset length matches\n"
     ]
    }
   ],
   "source": [
    "if len(dataset) == len(df_test)+len(df_main):\n",
    "    print('Dataset length matches')\n",
    "else:\n",
    "    print(\"Error in splitting datasets\")    "
   ]
  },
  {
   "cell_type": "code",
   "execution_count": 41,
   "id": "4f5c543f-97e3-4b42-8a9a-f669576b8cc2",
   "metadata": {
    "execution": {
     "iopub.execute_input": "2022-10-20T10:14:39.309404Z",
     "iopub.status.busy": "2022-10-20T10:14:39.309042Z",
     "iopub.status.idle": "2022-10-20T10:14:39.477185Z",
     "shell.execute_reply": "2022-10-20T10:14:39.476361Z",
     "shell.execute_reply.started": "2022-10-20T10:14:39.309379Z"
    }
   },
   "outputs": [],
   "source": [
    "#Save datasets into seperate csv files\n",
    "\n",
    "df_main.to_csv('online_shopper_set.csv', index = False)\n",
    "df_test.to_csv('online_shopper_test_set.csv', index = False)"
   ]
  },
  {
   "cell_type": "markdown",
   "id": "94394ce2-dc06-46f4-a4c8-6ed10bb02e69",
   "metadata": {},
   "source": [
    "## Start of project"
   ]
  },
  {
   "cell_type": "code",
   "execution_count": 28,
   "id": "671e4e43-e84a-4cb1-9e11-16a906446117",
   "metadata": {},
   "outputs": [],
   "source": [
    "# Import required libraries\n",
    "\n",
    "import numpy as np\n",
    "import pandas as pd\n",
    "from matplotlib import pyplot\n",
    "import matplotlib.pyplot as plt\n",
    "import seaborn as sns\n",
    "from scipy import stats\n",
    "from sklearn.preprocessing import PowerTransformer\n",
    "from sklearn.preprocessing import MinMaxScaler\n",
    "from sklearn.feature_selection import mutual_info_classif\n",
    "from sklearn.feature_selection import SelectKBest\n",
    "from sklearn.model_selection import train_test_split\n",
    "\n",
    "from imblearn.over_sampling import SMOTE\n",
    "from imblearn.pipeline import Pipeline\n",
    "from imblearn.under_sampling import RandomUnderSampler\n",
    "from sklearn.metrics import classification_report\n",
    "\n",
    "from sklearn.metrics import confusion_matrix\n",
    "from sklearn.ensemble import RandomForestClassifier\n",
    "from sklearn.neighbors import KNeighborsClassifier\n",
    "from sklearn.svm import SVC\n",
    "from sklearn import metrics\n",
    "from sklearn.model_selection import GridSearchCV"
   ]
  },
  {
   "cell_type": "markdown",
   "id": "8cd97367-8648-4e0d-8e95-a4814dfa1803",
   "metadata": {},
   "source": [
    "## Data Preprocessing and EDA"
   ]
  },
  {
   "cell_type": "code",
   "execution_count": 41,
   "id": "2267d497-e2d2-4dd0-b77f-82cf935675bb",
   "metadata": {},
   "outputs": [],
   "source": [
    "df = pd.read_csv('/notebooks/E-Commerce_Purchasing_Cls/online_shopper_set.csv')"
   ]
  },
  {
   "cell_type": "code",
   "execution_count": 42,
   "id": "03a3b3b8-cb78-4dbd-8430-04824934447d",
   "metadata": {},
   "outputs": [
    {
     "data": {
      "text/html": [
       "<div>\n",
       "<style scoped>\n",
       "    .dataframe tbody tr th:only-of-type {\n",
       "        vertical-align: middle;\n",
       "    }\n",
       "\n",
       "    .dataframe tbody tr th {\n",
       "        vertical-align: top;\n",
       "    }\n",
       "\n",
       "    .dataframe thead th {\n",
       "        text-align: right;\n",
       "    }\n",
       "</style>\n",
       "<table border=\"1\" class=\"dataframe\">\n",
       "  <thead>\n",
       "    <tr style=\"text-align: right;\">\n",
       "      <th></th>\n",
       "      <th>Administrative</th>\n",
       "      <th>Administrative_Duration</th>\n",
       "      <th>Informational</th>\n",
       "      <th>Informational_Duration</th>\n",
       "      <th>ProductRelated</th>\n",
       "      <th>ProductRelated_Duration</th>\n",
       "      <th>BounceRates</th>\n",
       "      <th>ExitRates</th>\n",
       "      <th>PageValues</th>\n",
       "      <th>SpecialDay</th>\n",
       "      <th>Month</th>\n",
       "      <th>OperatingSystems</th>\n",
       "      <th>Browser</th>\n",
       "      <th>Region</th>\n",
       "      <th>TrafficType</th>\n",
       "      <th>VisitorType</th>\n",
       "      <th>Weekend</th>\n",
       "      <th>Revenue</th>\n",
       "    </tr>\n",
       "  </thead>\n",
       "  <tbody>\n",
       "    <tr>\n",
       "      <th>0</th>\n",
       "      <td>0</td>\n",
       "      <td>0.0</td>\n",
       "      <td>0</td>\n",
       "      <td>0.0</td>\n",
       "      <td>2</td>\n",
       "      <td>64.000000</td>\n",
       "      <td>0.000000</td>\n",
       "      <td>0.100000</td>\n",
       "      <td>0.0</td>\n",
       "      <td>0.0</td>\n",
       "      <td>Feb</td>\n",
       "      <td>2</td>\n",
       "      <td>2</td>\n",
       "      <td>1</td>\n",
       "      <td>2</td>\n",
       "      <td>Returning_Visitor</td>\n",
       "      <td>False</td>\n",
       "      <td>False</td>\n",
       "    </tr>\n",
       "    <tr>\n",
       "      <th>1</th>\n",
       "      <td>0</td>\n",
       "      <td>0.0</td>\n",
       "      <td>0</td>\n",
       "      <td>0.0</td>\n",
       "      <td>1</td>\n",
       "      <td>0.000000</td>\n",
       "      <td>0.200000</td>\n",
       "      <td>0.200000</td>\n",
       "      <td>0.0</td>\n",
       "      <td>0.0</td>\n",
       "      <td>Feb</td>\n",
       "      <td>4</td>\n",
       "      <td>1</td>\n",
       "      <td>9</td>\n",
       "      <td>3</td>\n",
       "      <td>Returning_Visitor</td>\n",
       "      <td>False</td>\n",
       "      <td>False</td>\n",
       "    </tr>\n",
       "    <tr>\n",
       "      <th>2</th>\n",
       "      <td>0</td>\n",
       "      <td>0.0</td>\n",
       "      <td>0</td>\n",
       "      <td>0.0</td>\n",
       "      <td>2</td>\n",
       "      <td>2.666667</td>\n",
       "      <td>0.050000</td>\n",
       "      <td>0.140000</td>\n",
       "      <td>0.0</td>\n",
       "      <td>0.0</td>\n",
       "      <td>Feb</td>\n",
       "      <td>3</td>\n",
       "      <td>2</td>\n",
       "      <td>2</td>\n",
       "      <td>4</td>\n",
       "      <td>Returning_Visitor</td>\n",
       "      <td>False</td>\n",
       "      <td>False</td>\n",
       "    </tr>\n",
       "    <tr>\n",
       "      <th>3</th>\n",
       "      <td>0</td>\n",
       "      <td>0.0</td>\n",
       "      <td>0</td>\n",
       "      <td>0.0</td>\n",
       "      <td>10</td>\n",
       "      <td>627.500000</td>\n",
       "      <td>0.020000</td>\n",
       "      <td>0.050000</td>\n",
       "      <td>0.0</td>\n",
       "      <td>0.0</td>\n",
       "      <td>Feb</td>\n",
       "      <td>3</td>\n",
       "      <td>3</td>\n",
       "      <td>1</td>\n",
       "      <td>4</td>\n",
       "      <td>Returning_Visitor</td>\n",
       "      <td>True</td>\n",
       "      <td>False</td>\n",
       "    </tr>\n",
       "    <tr>\n",
       "      <th>4</th>\n",
       "      <td>0</td>\n",
       "      <td>0.0</td>\n",
       "      <td>0</td>\n",
       "      <td>0.0</td>\n",
       "      <td>19</td>\n",
       "      <td>154.216667</td>\n",
       "      <td>0.015789</td>\n",
       "      <td>0.024561</td>\n",
       "      <td>0.0</td>\n",
       "      <td>0.0</td>\n",
       "      <td>Feb</td>\n",
       "      <td>2</td>\n",
       "      <td>2</td>\n",
       "      <td>1</td>\n",
       "      <td>3</td>\n",
       "      <td>Returning_Visitor</td>\n",
       "      <td>False</td>\n",
       "      <td>False</td>\n",
       "    </tr>\n",
       "  </tbody>\n",
       "</table>\n",
       "</div>"
      ],
      "text/plain": [
       "   Administrative  Administrative_Duration  Informational  \\\n",
       "0               0                      0.0              0   \n",
       "1               0                      0.0              0   \n",
       "2               0                      0.0              0   \n",
       "3               0                      0.0              0   \n",
       "4               0                      0.0              0   \n",
       "\n",
       "   Informational_Duration  ProductRelated  ProductRelated_Duration  \\\n",
       "0                     0.0               2                64.000000   \n",
       "1                     0.0               1                 0.000000   \n",
       "2                     0.0               2                 2.666667   \n",
       "3                     0.0              10               627.500000   \n",
       "4                     0.0              19               154.216667   \n",
       "\n",
       "   BounceRates  ExitRates  PageValues  SpecialDay Month  OperatingSystems  \\\n",
       "0     0.000000   0.100000         0.0         0.0   Feb                 2   \n",
       "1     0.200000   0.200000         0.0         0.0   Feb                 4   \n",
       "2     0.050000   0.140000         0.0         0.0   Feb                 3   \n",
       "3     0.020000   0.050000         0.0         0.0   Feb                 3   \n",
       "4     0.015789   0.024561         0.0         0.0   Feb                 2   \n",
       "\n",
       "   Browser  Region  TrafficType        VisitorType  Weekend  Revenue  \n",
       "0        2       1            2  Returning_Visitor    False    False  \n",
       "1        1       9            3  Returning_Visitor    False    False  \n",
       "2        2       2            4  Returning_Visitor    False    False  \n",
       "3        3       1            4  Returning_Visitor     True    False  \n",
       "4        2       1            3  Returning_Visitor    False    False  "
      ]
     },
     "execution_count": 42,
     "metadata": {},
     "output_type": "execute_result"
    }
   ],
   "source": [
    "df.head()"
   ]
  },
  {
   "cell_type": "markdown",
   "id": "02de1bdb-ba54-4833-afc1-7f0671252c14",
   "metadata": {},
   "source": [
    "The dataset has 11 categorical features and 8 continuous features"
   ]
  },
  {
   "cell_type": "code",
   "execution_count": 43,
   "id": "564587eb-a482-42d7-9d15-46b7e9374a0f",
   "metadata": {},
   "outputs": [
    {
     "data": {
      "text/plain": [
       "Administrative               int64\n",
       "Administrative_Duration    float64\n",
       "Informational                int64\n",
       "Informational_Duration     float64\n",
       "ProductRelated               int64\n",
       "ProductRelated_Duration    float64\n",
       "BounceRates                float64\n",
       "ExitRates                  float64\n",
       "PageValues                 float64\n",
       "SpecialDay                 float64\n",
       "Month                       object\n",
       "OperatingSystems             int64\n",
       "Browser                      int64\n",
       "Region                       int64\n",
       "TrafficType                  int64\n",
       "VisitorType                 object\n",
       "Weekend                       bool\n",
       "Revenue                       bool\n",
       "dtype: object"
      ]
     },
     "execution_count": 43,
     "metadata": {},
     "output_type": "execute_result"
    }
   ],
   "source": [
    "df.dtypes"
   ]
  },
  {
   "cell_type": "markdown",
   "id": "9c5b434a-76b3-48a9-8d50-ba0cfea3b894",
   "metadata": {},
   "source": [
    "Below are findings of the categorical variables:\n",
    "\n",
    "- Administrative, Informational, OperatingSystems, Browser, Region, and TrafficType are represented  numerically.\n",
    "- Weekend and Revenue are represented with boolean, hence these features would need to be converted to integer prior to modelling.\n",
    "- Month and VisitorType have been represented with objects. This features would need to be encoded prior to modelling.\n",
    "- There is no ordinal nature within the categorical variables\n",
    "\n",
    "Below are the continuous variables within the dataset:\n",
    "\n",
    "- Administrative_Duration, Informational_Duration, ProductRelated, ProductRelated_Duration, BounceRates, ExitRates, PageValues and SpecialDay\n",
    "- This features would need to be transformed and normalized prior to modelling"
   ]
  },
  {
   "cell_type": "code",
   "execution_count": 44,
   "id": "765bb2ba-94cc-48a5-8098-b53483d66070",
   "metadata": {},
   "outputs": [
    {
     "data": {
      "text/html": [
       "<div>\n",
       "<style scoped>\n",
       "    .dataframe tbody tr th:only-of-type {\n",
       "        vertical-align: middle;\n",
       "    }\n",
       "\n",
       "    .dataframe tbody tr th {\n",
       "        vertical-align: top;\n",
       "    }\n",
       "\n",
       "    .dataframe thead th {\n",
       "        text-align: right;\n",
       "    }\n",
       "</style>\n",
       "<table border=\"1\" class=\"dataframe\">\n",
       "  <thead>\n",
       "    <tr style=\"text-align: right;\">\n",
       "      <th></th>\n",
       "      <th>Administrative</th>\n",
       "      <th>Administrative_Duration</th>\n",
       "      <th>Informational</th>\n",
       "      <th>Informational_Duration</th>\n",
       "      <th>ProductRelated</th>\n",
       "      <th>ProductRelated_Duration</th>\n",
       "      <th>BounceRates</th>\n",
       "      <th>ExitRates</th>\n",
       "      <th>PageValues</th>\n",
       "      <th>SpecialDay</th>\n",
       "      <th>OperatingSystems</th>\n",
       "      <th>Browser</th>\n",
       "      <th>Region</th>\n",
       "      <th>TrafficType</th>\n",
       "    </tr>\n",
       "  </thead>\n",
       "  <tbody>\n",
       "    <tr>\n",
       "      <th>count</th>\n",
       "      <td>11097.000000</td>\n",
       "      <td>11097.000000</td>\n",
       "      <td>11097.000000</td>\n",
       "      <td>11097.000000</td>\n",
       "      <td>11097.000000</td>\n",
       "      <td>11097.000000</td>\n",
       "      <td>11097.000000</td>\n",
       "      <td>11097.000000</td>\n",
       "      <td>11097.000000</td>\n",
       "      <td>11097.000000</td>\n",
       "      <td>11097.000000</td>\n",
       "      <td>11097.000000</td>\n",
       "      <td>11097.000000</td>\n",
       "      <td>11097.000000</td>\n",
       "    </tr>\n",
       "    <tr>\n",
       "      <th>mean</th>\n",
       "      <td>2.341984</td>\n",
       "      <td>81.629754</td>\n",
       "      <td>0.502658</td>\n",
       "      <td>34.540549</td>\n",
       "      <td>31.793998</td>\n",
       "      <td>1198.051909</td>\n",
       "      <td>0.022193</td>\n",
       "      <td>0.042987</td>\n",
       "      <td>5.948523</td>\n",
       "      <td>0.061440</td>\n",
       "      <td>2.121745</td>\n",
       "      <td>2.355501</td>\n",
       "      <td>3.150581</td>\n",
       "      <td>4.063801</td>\n",
       "    </tr>\n",
       "    <tr>\n",
       "      <th>std</th>\n",
       "      <td>3.342301</td>\n",
       "      <td>178.099128</td>\n",
       "      <td>1.262578</td>\n",
       "      <td>140.744461</td>\n",
       "      <td>44.695069</td>\n",
       "      <td>1931.046554</td>\n",
       "      <td>0.048427</td>\n",
       "      <td>0.048459</td>\n",
       "      <td>18.681972</td>\n",
       "      <td>0.199185</td>\n",
       "      <td>0.907914</td>\n",
       "      <td>1.707963</td>\n",
       "      <td>2.398280</td>\n",
       "      <td>4.020482</td>\n",
       "    </tr>\n",
       "    <tr>\n",
       "      <th>min</th>\n",
       "      <td>0.000000</td>\n",
       "      <td>0.000000</td>\n",
       "      <td>0.000000</td>\n",
       "      <td>0.000000</td>\n",
       "      <td>0.000000</td>\n",
       "      <td>0.000000</td>\n",
       "      <td>0.000000</td>\n",
       "      <td>0.000000</td>\n",
       "      <td>0.000000</td>\n",
       "      <td>0.000000</td>\n",
       "      <td>1.000000</td>\n",
       "      <td>1.000000</td>\n",
       "      <td>1.000000</td>\n",
       "      <td>1.000000</td>\n",
       "    </tr>\n",
       "    <tr>\n",
       "      <th>25%</th>\n",
       "      <td>0.000000</td>\n",
       "      <td>0.000000</td>\n",
       "      <td>0.000000</td>\n",
       "      <td>0.000000</td>\n",
       "      <td>7.000000</td>\n",
       "      <td>185.000000</td>\n",
       "      <td>0.000000</td>\n",
       "      <td>0.014286</td>\n",
       "      <td>0.000000</td>\n",
       "      <td>0.000000</td>\n",
       "      <td>2.000000</td>\n",
       "      <td>2.000000</td>\n",
       "      <td>1.000000</td>\n",
       "      <td>2.000000</td>\n",
       "    </tr>\n",
       "    <tr>\n",
       "      <th>50%</th>\n",
       "      <td>1.000000</td>\n",
       "      <td>9.000000</td>\n",
       "      <td>0.000000</td>\n",
       "      <td>0.000000</td>\n",
       "      <td>18.000000</td>\n",
       "      <td>599.613333</td>\n",
       "      <td>0.003077</td>\n",
       "      <td>0.025128</td>\n",
       "      <td>0.000000</td>\n",
       "      <td>0.000000</td>\n",
       "      <td>2.000000</td>\n",
       "      <td>2.000000</td>\n",
       "      <td>3.000000</td>\n",
       "      <td>2.000000</td>\n",
       "    </tr>\n",
       "    <tr>\n",
       "      <th>75%</th>\n",
       "      <td>4.000000</td>\n",
       "      <td>94.250000</td>\n",
       "      <td>0.000000</td>\n",
       "      <td>0.000000</td>\n",
       "      <td>38.000000</td>\n",
       "      <td>1466.088462</td>\n",
       "      <td>0.017143</td>\n",
       "      <td>0.050000</td>\n",
       "      <td>0.000000</td>\n",
       "      <td>0.000000</td>\n",
       "      <td>3.000000</td>\n",
       "      <td>2.000000</td>\n",
       "      <td>4.000000</td>\n",
       "      <td>4.000000</td>\n",
       "    </tr>\n",
       "    <tr>\n",
       "      <th>max</th>\n",
       "      <td>27.000000</td>\n",
       "      <td>3398.750000</td>\n",
       "      <td>24.000000</td>\n",
       "      <td>2549.375000</td>\n",
       "      <td>705.000000</td>\n",
       "      <td>63973.522230</td>\n",
       "      <td>0.200000</td>\n",
       "      <td>0.200000</td>\n",
       "      <td>361.763742</td>\n",
       "      <td>1.000000</td>\n",
       "      <td>8.000000</td>\n",
       "      <td>13.000000</td>\n",
       "      <td>9.000000</td>\n",
       "      <td>20.000000</td>\n",
       "    </tr>\n",
       "  </tbody>\n",
       "</table>\n",
       "</div>"
      ],
      "text/plain": [
       "       Administrative  Administrative_Duration  Informational  \\\n",
       "count    11097.000000             11097.000000   11097.000000   \n",
       "mean         2.341984                81.629754       0.502658   \n",
       "std          3.342301               178.099128       1.262578   \n",
       "min          0.000000                 0.000000       0.000000   \n",
       "25%          0.000000                 0.000000       0.000000   \n",
       "50%          1.000000                 9.000000       0.000000   \n",
       "75%          4.000000                94.250000       0.000000   \n",
       "max         27.000000              3398.750000      24.000000   \n",
       "\n",
       "       Informational_Duration  ProductRelated  ProductRelated_Duration  \\\n",
       "count            11097.000000    11097.000000             11097.000000   \n",
       "mean                34.540549       31.793998              1198.051909   \n",
       "std                140.744461       44.695069              1931.046554   \n",
       "min                  0.000000        0.000000                 0.000000   \n",
       "25%                  0.000000        7.000000               185.000000   \n",
       "50%                  0.000000       18.000000               599.613333   \n",
       "75%                  0.000000       38.000000              1466.088462   \n",
       "max               2549.375000      705.000000             63973.522230   \n",
       "\n",
       "        BounceRates     ExitRates    PageValues    SpecialDay  \\\n",
       "count  11097.000000  11097.000000  11097.000000  11097.000000   \n",
       "mean       0.022193      0.042987      5.948523      0.061440   \n",
       "std        0.048427      0.048459     18.681972      0.199185   \n",
       "min        0.000000      0.000000      0.000000      0.000000   \n",
       "25%        0.000000      0.014286      0.000000      0.000000   \n",
       "50%        0.003077      0.025128      0.000000      0.000000   \n",
       "75%        0.017143      0.050000      0.000000      0.000000   \n",
       "max        0.200000      0.200000    361.763742      1.000000   \n",
       "\n",
       "       OperatingSystems       Browser        Region   TrafficType  \n",
       "count      11097.000000  11097.000000  11097.000000  11097.000000  \n",
       "mean           2.121745      2.355501      3.150581      4.063801  \n",
       "std            0.907914      1.707963      2.398280      4.020482  \n",
       "min            1.000000      1.000000      1.000000      1.000000  \n",
       "25%            2.000000      2.000000      1.000000      2.000000  \n",
       "50%            2.000000      2.000000      3.000000      2.000000  \n",
       "75%            3.000000      2.000000      4.000000      4.000000  \n",
       "max            8.000000     13.000000      9.000000     20.000000  "
      ]
     },
     "execution_count": 44,
     "metadata": {},
     "output_type": "execute_result"
    }
   ],
   "source": [
    "df.describe()"
   ]
  },
  {
   "cell_type": "markdown",
   "id": "dc7bb85a-5966-4d9c-b2f4-58c8da801de8",
   "metadata": {},
   "source": [
    "Findings from tabulation above:\n",
    "- No missing values present in the dataset. Imputation is not required\n",
    "- Administrative_Duration, Informational_Duration, ProductRelated, ProductRelated_Duration, ExitRates, PageValues and SpecialDay are right skewed distribution. This features would need to be transformed to approximate a normal distribution\n",
    "- The range of values also differ significantly amongst continuous features. Hence feature scaling would be required\n",
    "- The severity of skewness across the continuous features with mean values being significantly lower than the maximimum value, indicates the presence of many outliers. This would be further explored during EDA"
   ]
  },
  {
   "cell_type": "code",
   "execution_count": 45,
   "id": "247e358c-0ec1-4408-be38-a07c0688e9b4",
   "metadata": {},
   "outputs": [
    {
     "data": {
      "image/png": "[encoded data removed]",
      "text/plain": [
       "<Figure size 720x360 with 1 Axes>"
      ]
     },
     "metadata": {
      "needs_background": "light"
     },
     "output_type": "display_data"
    }
   ],
   "source": [
    "# Count plot\n",
    "plt.figure(figsize = (10,5))\n",
    "ax = sns.countplot(x=df['Revenue'])\n",
    "ax.set_title(\"Count of Revenue\")\n",
    "\n",
    "# Count percentage of each Class\n",
    "total = len(df)\n",
    "for p in ax.patches:\n",
    "    percentage = f'{100 * p.get_height() / total:.1f}%\\n'\n",
    "    x = p.get_x() + p.get_width() / 2\n",
    "    y = p.get_height()\n",
    "    ax.annotate(percentage, (x, y), ha='center', va='center')\n",
    "plt.tight_layout()\n",
    "plt.show()"
   ]
  },
  {
   "cell_type": "markdown",
   "id": "a2f0e9b9-039c-40b3-a19f-3f19c95873eb",
   "metadata": {},
   "source": [
    "As seen above, the target variable - Revenue, is severely imbalanced. False class makes up majority of the feature with a total of 84.5%. True class only consists of 15.5% of the feature. This shows the conversion rate of visitors to revenue is rather low."
   ]
  },
  {
   "cell_type": "markdown",
   "id": "a78f950b-8d78-4aaf-b59e-2421f47f09ae",
   "metadata": {},
   "source": [
    "**Analyze features grouped by Revenue**"
   ]
  },
  {
   "cell_type": "markdown",
   "id": "ff18cc68-6433-4972-9f8d-bbf78339ca14",
   "metadata": {},
   "source": [
    "Analysis of levels within categorical variables"
   ]
  },
  {
   "cell_type": "code",
   "execution_count": 48,
   "id": "f5ebc64e-fd4e-4d04-b980-92a625298f1c",
   "metadata": {},
   "outputs": [
    {
     "data": {
      "image/png": "[encoded data removed]",
      "text/plain": [
       "<Figure size 720x360 with 1 Axes>"
      ]
     },
     "metadata": {
      "needs_background": "light"
     },
     "output_type": "display_data"
    },
    {
     "data": {
      "image/png": "[encoded data removed]",
      "text/plain": [
       "<Figure size 720x360 with 1 Axes>"
      ]
     },
     "metadata": {
      "needs_background": "light"
     },
     "output_type": "display_data"
    }
   ],
   "source": [
    "df_cat = df[['Month', 'VisitorType']]\n",
    "\n",
    "for i, col in enumerate(df_cat.columns):\n",
    "    plt.figure(figsize = (10,5))\n",
    "    ax = sns.countplot(x=col, data=df_cat)\n",
    "    ax.bar_label(ax.containers[0])    "
   ]
  },
  {
   "cell_type": "markdown",
   "id": "134f04d6-6546-46b9-b094-3b15be435406",
   "metadata": {},
   "source": [
    "- March, May, November and December are most active months\n",
    "- Most of store visitors are returning visitors. This shows that the store is able captivate visitors which prompts thier return. However, the site may not be marketed well as amount of new visitors are relatively low."
   ]
  },
  {
   "cell_type": "code",
   "execution_count": 50,
   "id": "764c9e97-5d5f-4bcb-883a-fa8100625e4a",
   "metadata": {},
   "outputs": [
    {
     "data": {
      "image/png": "[encoded data removed]",
      "text/plain": [
       "<Figure size 432x288 with 1 Axes>"
      ]
     },
     "metadata": {
      "needs_background": "light"
     },
     "output_type": "display_data"
    }
   ],
   "source": [
    "# count plot on two categorical variable\n",
    "sns.countplot(x ='Weekend', hue = \"Revenue\", data = df)\n",
    " \n",
    "# Show the plot\n",
    "plt.show()"
   ]
  },
  {
   "cell_type": "markdown",
   "id": "7d3d9064-a902-4b49-943a-84405fdeeafa",
   "metadata": {},
   "source": [
    "- In terms of generating revenue, there is a higher proportion of sales being generated over weekends as compared to weekdays. The company could look to list out more attractive deals over weekdays to attract potential customers. Increase customer engagement could potentially help improve the proportion of sales over the weekdays."
   ]
  },
  {
   "cell_type": "code",
   "execution_count": 52,
   "id": "1d0e845b-76fa-4e0f-859b-70835609d4e1",
   "metadata": {},
   "outputs": [
    {
     "data": {
      "text/plain": [
       "(0.0, 2000.0)"
      ]
     },
     "execution_count": 52,
     "metadata": {},
     "output_type": "execute_result"
    },
    {
     "data": {
      "image/png": "[encoded data removed]",
      "text/plain": [
       "<Figure size 1440x360 with 1 Axes>"
      ]
     },
     "metadata": {
      "needs_background": "light"
     },
     "output_type": "display_data"
    },
    {
     "data": {
      "image/png": "[encoded data removed]",
      "text/plain": [
       "<Figure size 1440x360 with 1 Axes>"
      ]
     },
     "metadata": {
      "needs_background": "light"
     },
     "output_type": "display_data"
    }
   ],
   "source": [
    "plt.figure(figsize=(20,5))\n",
    "sns.countplot(x='Administrative',data=df)\n",
    "plt.xlabel('Administrative Page Count')\n",
    "\n",
    "plt.figure(figsize=(20,5))\n",
    "sns.boxplot(x='Administrative',y='Administrative_Duration',hue='Revenue',data=df)\n",
    "plt.ylim(0,2000)"
   ]
  },
  {
   "cell_type": "markdown",
   "id": "9ce447ec-1c32-4842-99ed-9b074a6df80b",
   "metadata": {},
   "source": [
    "- Visitors dont generally visit adminstrative page \n",
    "- However, those who visit between 8-18 pages seem to show some pattern of having higher possibility of bringing in Revenue."
   ]
  },
  {
   "cell_type": "code",
   "execution_count": 53,
   "id": "0fc3ac12-f930-4fd3-9835-9fbbfe4d2e31",
   "metadata": {},
   "outputs": [
    {
     "data": {
      "text/plain": [
       "(0.0, 2000.0)"
      ]
     },
     "execution_count": 53,
     "metadata": {},
     "output_type": "execute_result"
    },
    {
     "data": {
      "image/png": "[encoded data removed]",
      "text/plain": [
       "<Figure size 1080x360 with 1 Axes>"
      ]
     },
     "metadata": {
      "needs_background": "light"
     },
     "output_type": "display_data"
    },
    {
     "data": {
      "image/png": "[encoded data removed]",
      "text/plain": [
       "<Figure size 1440x360 with 1 Axes>"
      ]
     },
     "metadata": {
      "needs_background": "light"
     },
     "output_type": "display_data"
    }
   ],
   "source": [
    "plt.figure(figsize=(15,5))\n",
    "sns.countplot(x='Informational',data=df)\n",
    "plt.xlabel('Informational Page Count')\n",
    "\n",
    "plt.figure(figsize=(20,5))\n",
    "sns.boxplot(x='Informational',y='Informational_Duration',hue='Revenue',data=df)\n",
    "plt.ylim(0,2000)"
   ]
  },
  {
   "cell_type": "markdown",
   "id": "d5372944-9f62-485e-83c4-2f7a77d4d24f",
   "metadata": {},
   "source": [
    "- Similar to that of admistrative pages, visitors dont spend much time across informational pages too.\n",
    "- However, those who visit between 2-6 pages tends to make a purchase within the store."
   ]
  },
  {
   "cell_type": "code",
   "execution_count": 54,
   "id": "10357fc9-82fa-44e9-8a04-fa6f391c539e",
   "metadata": {},
   "outputs": [
    {
     "data": {
      "text/plain": [
       "<AxesSubplot:xlabel='Revenue', ylabel='PageValues'>"
      ]
     },
     "execution_count": 54,
     "metadata": {},
     "output_type": "execute_result"
    },
    {
     "data": {
      "image/png": "[encoded data removed]",
      "text/plain": [
       "<Figure size 432x288 with 1 Axes>"
      ]
     },
     "metadata": {
      "needs_background": "light"
     },
     "output_type": "display_data"
    }
   ],
   "source": [
    "sns.barplot(y='PageValues',x='Revenue', data=df)"
   ]
  },
  {
   "cell_type": "markdown",
   "id": "5417e3ea-4f49-4a2c-93bb-ac8c7287556c",
   "metadata": {},
   "source": [
    "- Thers is a strong correlation between pages visited and generating Revenue.\n",
    "- Essentially, if the visitor is surfing through more pages, there is a higher probability of generating revenue from that visitor."
   ]
  },
  {
   "cell_type": "code",
   "execution_count": 60,
   "id": "95366bdf-dbaf-442b-825b-a01154aebe46",
   "metadata": {},
   "outputs": [
    {
     "data": {
      "image/png": "[encoded data removed]",
      "text/plain": [
       "<Figure size 1080x288 with 1 Axes>"
      ]
     },
     "metadata": {
      "needs_background": "light"
     },
     "output_type": "display_data"
    }
   ],
   "source": [
    "# count plot on two categorical variable\n",
    "plt.figure(figsize=(15,4))\n",
    "sns.countplot(x ='OperatingSystems', hue = \"Revenue\", data = df)\n",
    " \n",
    "# Show the plot\n",
    "plt.show()"
   ]
  },
  {
   "cell_type": "markdown",
   "id": "bf3ca14a-e9d0-4a88-b1aa-c6be36909d5a",
   "metadata": {},
   "source": [
    "- OS 2 contributes to most amount of Revenue and also is used by most visitors\n",
    "- OS 1 and 3 is used by a good portion of visitors, however the probability of generating revenue from these visitors are relatively low. This could be the ad positioning across the browser. Apart from that, the UI and UX could also be a huge influence to the low revenue numbers from these OS."
   ]
  },
  {
   "cell_type": "markdown",
   "id": "daf001eb-0db2-4ada-ba72-c008c8954f73",
   "metadata": {},
   "source": [
    "-------\n",
    "-------"
   ]
  },
  {
   "cell_type": "markdown",
   "id": "2813a95a-b9c2-4da3-b0f8-b34aa898cd36",
   "metadata": {
    "tags": []
   },
   "source": [
    "## Feature Engineering"
   ]
  },
  {
   "cell_type": "code",
   "execution_count": 65,
   "id": "c8477966-0e0a-46f2-b623-cca5f202db0f",
   "metadata": {},
   "outputs": [],
   "source": [
    "df2 = df.copy()"
   ]
  },
  {
   "cell_type": "markdown",
   "id": "1aaa6994-3fc5-4689-b062-0ba4cfd43284",
   "metadata": {
    "tags": []
   },
   "source": [
    "-----------\n",
    "**Feature Transformation**"
   ]
  },
  {
   "cell_type": "markdown",
   "id": "a5649e35-6ca7-4f90-ae57-ce50752be8fc",
   "metadata": {},
   "source": [
    "Transform skewed continuous variables to achieve approximate normal distribution"
   ]
  },
  {
   "cell_type": "markdown",
   "id": "cbf1a1fa-769b-463a-b4ef-1a467bb5a43e",
   "metadata": {},
   "source": [
    "Continuous variables before transformation"
   ]
  },
  {
   "cell_type": "code",
   "execution_count": 66,
   "id": "09f2ac6a-0384-40e1-8582-e9c463d3c88f",
   "metadata": {},
   "outputs": [
    {
     "data": {
      "image/png": "[encoded data removed]",
      "text/plain": [
       "<Figure size 1440x720 with 8 Axes>"
      ]
     },
     "metadata": {
      "needs_background": "light"
     },
     "output_type": "display_data"
    }
   ],
   "source": [
    "columns = ['Administrative_Duration','Informational_Duration','ProductRelated', 'ProductRelated_Duration', 'BounceRates', 'ExitRates', 'PageValues', 'SpecialDay']\n",
    "fig, axs = plt.subplots(4, 2, figsize=(20, 10))\n",
    "\n",
    "for ax, col in zip(axs.flatten(), columns):\n",
    "    df2.hist(column=col, ax=ax, bins = 100)\n",
    "    plt.tight_layout()"
   ]
  },
  {
   "cell_type": "markdown",
   "id": "6e37a47f-9a7a-4d2e-a1f8-42d0bd960377",
   "metadata": {},
   "source": [
    "**Apply Log Transformation**"
   ]
  },
  {
   "cell_type": "markdown",
   "id": "c8251b44-516a-4d5f-a542-79dc1b588562",
   "metadata": {},
   "source": [
    "Apply natural log of (1+x) to compute values close to 0"
   ]
  },
  {
   "cell_type": "code",
   "execution_count": 24,
   "id": "4dcb08e7-da11-468e-8660-b9e2154c4c0b",
   "metadata": {},
   "outputs": [],
   "source": [
    "df_trans =np.log1p(df2[['Administrative_Duration','Informational_Duration','ProductRelated', 'ProductRelated_Duration', 'BounceRates', 'ExitRates', 'PageValues', 'SpecialDay']])"
   ]
  },
  {
   "cell_type": "code",
   "execution_count": 25,
   "id": "a18ac35b-c0af-43ba-a74b-74e7041fba7c",
   "metadata": {},
   "outputs": [
    {
     "data": {
      "image/png": "[encoded data removed]",
      "text/plain": [
       "<Figure size 1440x720 with 8 Axes>"
      ]
     },
     "metadata": {
      "needs_background": "light"
     },
     "output_type": "display_data"
    }
   ],
   "source": [
    "columns = ['Administrative_Duration','Informational_Duration','ProductRelated', 'ProductRelated_Duration', 'BounceRates', 'ExitRates', 'PageValues', 'SpecialDay']\n",
    "fig, axs = plt.subplots(4, 2, figsize=(20, 10))\n",
    "\n",
    "for ax, col in zip(axs.flatten(), columns):\n",
    "    df_trans.hist(column=col, ax=ax, bins = 100)\n",
    "    plt.tight_layout()"
   ]
  },
  {
   "cell_type": "markdown",
   "id": "e1bf928f-8a35-4b9a-bad4-43fe444a52e7",
   "metadata": {},
   "source": [
    "Due to the nature of skewness, applying log transformations does not yeild a more desirable distribution. As such, to overcome such a distribution, we focus on applying machine learning models that are not heavilily impact by the non-normal distribution of continuous features."
   ]
  },
  {
   "cell_type": "markdown",
   "id": "03867be4-dba3-4fab-b49b-4287915ec782",
   "metadata": {},
   "source": [
    "**Apply Yeo-Johnson Transformation**"
   ]
  },
  {
   "cell_type": "code",
   "execution_count": 40,
   "id": "c3148696-3a77-4758-813e-27a46e5c1130",
   "metadata": {},
   "outputs": [],
   "source": [
    "df_trans_2 = df2[['Administrative_Duration','Informational_Duration','ProductRelated', 'ProductRelated_Duration', 'BounceRates', 'ExitRates', 'PageValues', 'SpecialDay']]"
   ]
  },
  {
   "cell_type": "code",
   "execution_count": 45,
   "id": "cc117e1d-089b-4b86-a2f9-057e679b9459",
   "metadata": {},
   "outputs": [],
   "source": [
    "power = PowerTransformer(method='yeo-johnson', standardize=True)\n",
    "data_trans_AD = power.fit_transform(df_trans_2[['Administrative_Duration']])\n",
    "data_trans_ID = power.fit_transform(df_trans_2[['Informational_Duration']])\n",
    "data_trans_PR = power.fit_transform(df_trans_2[['ProductRelated']])\n",
    "data_trans_PRD = power.fit_transform(df_trans_2[['ProductRelated_Duration']])"
   ]
  },
  {
   "cell_type": "code",
   "execution_count": 48,
   "id": "e0a3461b-6c63-44a1-b158-1b4d82094211",
   "metadata": {},
   "outputs": [
    {
     "data": {
      "image/png": "[encoded data removed]",
      "text/plain": [
       "<Figure size 432x288 with 1 Axes>"
      ]
     },
     "metadata": {
      "needs_background": "light"
     },
     "output_type": "display_data"
    },
    {
     "data": {
      "image/png": "[encoded data removed]",
      "text/plain": [
       "<Figure size 432x288 with 1 Axes>"
      ]
     },
     "metadata": {
      "needs_background": "light"
     },
     "output_type": "display_data"
    },
    {
     "data": {
      "image/png": "[encoded data removed]",
      "text/plain": [
       "<Figure size 432x288 with 1 Axes>"
      ]
     },
     "metadata": {
      "needs_background": "light"
     },
     "output_type": "display_data"
    },
    {
     "data": {
      "image/png": "[encoded data removed]",
      "text/plain": [
       "<Figure size 432x288 with 1 Axes>"
      ]
     },
     "metadata": {
      "needs_background": "light"
     },
     "output_type": "display_data"
    }
   ],
   "source": [
    "pyplot.hist(data_trans_AD, bins=50)\n",
    "pyplot.show()\n",
    "\n",
    "pyplot.hist(data_trans_ID, bins=50)\n",
    "pyplot.show()\n",
    "\n",
    "pyplot.hist(data_trans_PR, bins=50)\n",
    "pyplot.show()\n",
    "\n",
    "pyplot.hist(data_trans_PRD, bins=50)\n",
    "pyplot.show()"
   ]
  },
  {
   "cell_type": "markdown",
   "id": "30c057a7-aadc-4bf0-bcf8-a74be0d003b9",
   "metadata": {},
   "source": [
    "Even with YJ transformation, the non-normal distribution nature of the features are still prominent. As such, the continous features are left as it is without any transformation."
   ]
  },
  {
   "cell_type": "markdown",
   "id": "7e9584de-ae5b-4686-ae7a-c19f78f9cac3",
   "metadata": {},
   "source": [
    "-------------\n",
    "**Feature Encoding**"
   ]
  },
  {
   "cell_type": "markdown",
   "id": "88a5dab6-7ca1-46a8-830d-2b2a72d8c9b3",
   "metadata": {},
   "source": [
    "Categorical Features are required to be represented numerically in order for it to be accepted by machine learning models. Although models such as decision trees can handle categorical features, skleans implementation of decision tree and ensembled model based on decision trees requires categorical features to be encoded."
   ]
  },
  {
   "cell_type": "markdown",
   "id": "f61f7923-1175-448d-82df-9988fcb7d5c3",
   "metadata": {},
   "source": [
    "Feature to be encoded : Month & VisitorType\n",
    "\n",
    "Other categorical variables have already been reprsented by integers"
   ]
  },
  {
   "cell_type": "code",
   "execution_count": 67,
   "id": "ef92b6fc-713f-42cd-9a3d-bd912931a13d",
   "metadata": {},
   "outputs": [],
   "source": [
    "df2 = pd.get_dummies(df2, columns=['Month','VisitorType'], drop_first=True)"
   ]
  },
  {
   "cell_type": "markdown",
   "id": "7ccddb6e-5231-45a7-a8d0-5db2defb0f96",
   "metadata": {},
   "source": [
    "Covert Weekend and Revenue to integers"
   ]
  },
  {
   "cell_type": "code",
   "execution_count": 68,
   "id": "3fb60f3a-9075-4b65-8892-796b417041d8",
   "metadata": {},
   "outputs": [
    {
     "data": {
      "text/plain": [
       "0    9380\n",
       "1    1717\n",
       "Name: Revenue, dtype: int64"
      ]
     },
     "execution_count": 68,
     "metadata": {},
     "output_type": "execute_result"
    }
   ],
   "source": [
    "df2['Revenue'] = df2['Revenue'].astype(int)\n",
    "df2['Revenue'].value_counts()"
   ]
  },
  {
   "cell_type": "code",
   "execution_count": 69,
   "id": "6a2b8b8b-15f8-4b30-ae01-c5da662a8543",
   "metadata": {},
   "outputs": [
    {
     "data": {
      "text/plain": [
       "0    8517\n",
       "1    2580\n",
       "Name: Weekend, dtype: int64"
      ]
     },
     "execution_count": 69,
     "metadata": {},
     "output_type": "execute_result"
    }
   ],
   "source": [
    "df2['Weekend'] = df2['Weekend'].astype(int)\n",
    "df2['Weekend'].value_counts()"
   ]
  },
  {
   "cell_type": "code",
   "execution_count": 53,
   "id": "c4473a23-41f7-4325-93b0-bb5b9b3fe576",
   "metadata": {},
   "outputs": [
    {
     "data": {
      "text/plain": [
       "(11097, 27)"
      ]
     },
     "execution_count": 53,
     "metadata": {},
     "output_type": "execute_result"
    }
   ],
   "source": [
    "np.shape(df2)"
   ]
  },
  {
   "cell_type": "code",
   "execution_count": 54,
   "id": "8907d10a-b8fe-4415-80cb-c43922da19a8",
   "metadata": {},
   "outputs": [
    {
     "data": {
      "text/plain": [
       "Administrative                     int64\n",
       "Administrative_Duration          float64\n",
       "Informational                      int64\n",
       "Informational_Duration           float64\n",
       "ProductRelated                     int64\n",
       "ProductRelated_Duration          float64\n",
       "BounceRates                      float64\n",
       "ExitRates                        float64\n",
       "PageValues                       float64\n",
       "SpecialDay                       float64\n",
       "OperatingSystems                   int64\n",
       "Browser                            int64\n",
       "Region                             int64\n",
       "TrafficType                        int64\n",
       "Weekend                            int64\n",
       "Revenue                            int64\n",
       "Month_Dec                          uint8\n",
       "Month_Feb                          uint8\n",
       "Month_Jul                          uint8\n",
       "Month_June                         uint8\n",
       "Month_Mar                          uint8\n",
       "Month_May                          uint8\n",
       "Month_Nov                          uint8\n",
       "Month_Oct                          uint8\n",
       "Month_Sep                          uint8\n",
       "VisitorType_Other                  uint8\n",
       "VisitorType_Returning_Visitor      uint8\n",
       "dtype: object"
      ]
     },
     "execution_count": 54,
     "metadata": {},
     "output_type": "execute_result"
    }
   ],
   "source": [
    "df2.dtypes"
   ]
  },
  {
   "cell_type": "code",
   "execution_count": 55,
   "id": "342a2182-4697-453e-a4bb-de8077c12f1b",
   "metadata": {},
   "outputs": [
    {
     "data": {
      "text/html": [
       "<div>\n",
       "<style scoped>\n",
       "    .dataframe tbody tr th:only-of-type {\n",
       "        vertical-align: middle;\n",
       "    }\n",
       "\n",
       "    .dataframe tbody tr th {\n",
       "        vertical-align: top;\n",
       "    }\n",
       "\n",
       "    .dataframe thead th {\n",
       "        text-align: right;\n",
       "    }\n",
       "</style>\n",
       "<table border=\"1\" class=\"dataframe\">\n",
       "  <thead>\n",
       "    <tr style=\"text-align: right;\">\n",
       "      <th></th>\n",
       "      <th>Administrative</th>\n",
       "      <th>Administrative_Duration</th>\n",
       "      <th>Informational</th>\n",
       "      <th>Informational_Duration</th>\n",
       "      <th>ProductRelated</th>\n",
       "      <th>ProductRelated_Duration</th>\n",
       "      <th>BounceRates</th>\n",
       "      <th>ExitRates</th>\n",
       "      <th>PageValues</th>\n",
       "      <th>SpecialDay</th>\n",
       "      <th>...</th>\n",
       "      <th>Month_Feb</th>\n",
       "      <th>Month_Jul</th>\n",
       "      <th>Month_June</th>\n",
       "      <th>Month_Mar</th>\n",
       "      <th>Month_May</th>\n",
       "      <th>Month_Nov</th>\n",
       "      <th>Month_Oct</th>\n",
       "      <th>Month_Sep</th>\n",
       "      <th>VisitorType_Other</th>\n",
       "      <th>VisitorType_Returning_Visitor</th>\n",
       "    </tr>\n",
       "  </thead>\n",
       "  <tbody>\n",
       "    <tr>\n",
       "      <th>count</th>\n",
       "      <td>11097.000000</td>\n",
       "      <td>11097.000000</td>\n",
       "      <td>11097.000000</td>\n",
       "      <td>11097.000000</td>\n",
       "      <td>11097.000000</td>\n",
       "      <td>11097.000000</td>\n",
       "      <td>11097.000000</td>\n",
       "      <td>11097.000000</td>\n",
       "      <td>11097.000000</td>\n",
       "      <td>11097.000000</td>\n",
       "      <td>...</td>\n",
       "      <td>11097.000000</td>\n",
       "      <td>11097.000000</td>\n",
       "      <td>11097.000000</td>\n",
       "      <td>11097.000000</td>\n",
       "      <td>11097.000000</td>\n",
       "      <td>11097.000000</td>\n",
       "      <td>11097.000000</td>\n",
       "      <td>11097.000000</td>\n",
       "      <td>11097.000000</td>\n",
       "      <td>11097.000000</td>\n",
       "    </tr>\n",
       "    <tr>\n",
       "      <th>mean</th>\n",
       "      <td>2.341984</td>\n",
       "      <td>81.629754</td>\n",
       "      <td>0.502658</td>\n",
       "      <td>34.540549</td>\n",
       "      <td>31.793998</td>\n",
       "      <td>1198.051909</td>\n",
       "      <td>0.022193</td>\n",
       "      <td>0.042987</td>\n",
       "      <td>5.948523</td>\n",
       "      <td>0.061440</td>\n",
       "      <td>...</td>\n",
       "      <td>0.015319</td>\n",
       "      <td>0.034874</td>\n",
       "      <td>0.022979</td>\n",
       "      <td>0.154636</td>\n",
       "      <td>0.272146</td>\n",
       "      <td>0.244480</td>\n",
       "      <td>0.044697</td>\n",
       "      <td>0.036226</td>\n",
       "      <td>0.006668</td>\n",
       "      <td>0.855456</td>\n",
       "    </tr>\n",
       "    <tr>\n",
       "      <th>std</th>\n",
       "      <td>3.342301</td>\n",
       "      <td>178.099128</td>\n",
       "      <td>1.262578</td>\n",
       "      <td>140.744461</td>\n",
       "      <td>44.695069</td>\n",
       "      <td>1931.046554</td>\n",
       "      <td>0.048427</td>\n",
       "      <td>0.048459</td>\n",
       "      <td>18.681972</td>\n",
       "      <td>0.199185</td>\n",
       "      <td>...</td>\n",
       "      <td>0.122826</td>\n",
       "      <td>0.183470</td>\n",
       "      <td>0.149844</td>\n",
       "      <td>0.361574</td>\n",
       "      <td>0.445085</td>\n",
       "      <td>0.429798</td>\n",
       "      <td>0.206647</td>\n",
       "      <td>0.186860</td>\n",
       "      <td>0.081392</td>\n",
       "      <td>0.351656</td>\n",
       "    </tr>\n",
       "    <tr>\n",
       "      <th>min</th>\n",
       "      <td>0.000000</td>\n",
       "      <td>0.000000</td>\n",
       "      <td>0.000000</td>\n",
       "      <td>0.000000</td>\n",
       "      <td>0.000000</td>\n",
       "      <td>0.000000</td>\n",
       "      <td>0.000000</td>\n",
       "      <td>0.000000</td>\n",
       "      <td>0.000000</td>\n",
       "      <td>0.000000</td>\n",
       "      <td>...</td>\n",
       "      <td>0.000000</td>\n",
       "      <td>0.000000</td>\n",
       "      <td>0.000000</td>\n",
       "      <td>0.000000</td>\n",
       "      <td>0.000000</td>\n",
       "      <td>0.000000</td>\n",
       "      <td>0.000000</td>\n",
       "      <td>0.000000</td>\n",
       "      <td>0.000000</td>\n",
       "      <td>0.000000</td>\n",
       "    </tr>\n",
       "    <tr>\n",
       "      <th>25%</th>\n",
       "      <td>0.000000</td>\n",
       "      <td>0.000000</td>\n",
       "      <td>0.000000</td>\n",
       "      <td>0.000000</td>\n",
       "      <td>7.000000</td>\n",
       "      <td>185.000000</td>\n",
       "      <td>0.000000</td>\n",
       "      <td>0.014286</td>\n",
       "      <td>0.000000</td>\n",
       "      <td>0.000000</td>\n",
       "      <td>...</td>\n",
       "      <td>0.000000</td>\n",
       "      <td>0.000000</td>\n",
       "      <td>0.000000</td>\n",
       "      <td>0.000000</td>\n",
       "      <td>0.000000</td>\n",
       "      <td>0.000000</td>\n",
       "      <td>0.000000</td>\n",
       "      <td>0.000000</td>\n",
       "      <td>0.000000</td>\n",
       "      <td>1.000000</td>\n",
       "    </tr>\n",
       "    <tr>\n",
       "      <th>50%</th>\n",
       "      <td>1.000000</td>\n",
       "      <td>9.000000</td>\n",
       "      <td>0.000000</td>\n",
       "      <td>0.000000</td>\n",
       "      <td>18.000000</td>\n",
       "      <td>599.613333</td>\n",
       "      <td>0.003077</td>\n",
       "      <td>0.025128</td>\n",
       "      <td>0.000000</td>\n",
       "      <td>0.000000</td>\n",
       "      <td>...</td>\n",
       "      <td>0.000000</td>\n",
       "      <td>0.000000</td>\n",
       "      <td>0.000000</td>\n",
       "      <td>0.000000</td>\n",
       "      <td>0.000000</td>\n",
       "      <td>0.000000</td>\n",
       "      <td>0.000000</td>\n",
       "      <td>0.000000</td>\n",
       "      <td>0.000000</td>\n",
       "      <td>1.000000</td>\n",
       "    </tr>\n",
       "    <tr>\n",
       "      <th>75%</th>\n",
       "      <td>4.000000</td>\n",
       "      <td>94.250000</td>\n",
       "      <td>0.000000</td>\n",
       "      <td>0.000000</td>\n",
       "      <td>38.000000</td>\n",
       "      <td>1466.088462</td>\n",
       "      <td>0.017143</td>\n",
       "      <td>0.050000</td>\n",
       "      <td>0.000000</td>\n",
       "      <td>0.000000</td>\n",
       "      <td>...</td>\n",
       "      <td>0.000000</td>\n",
       "      <td>0.000000</td>\n",
       "      <td>0.000000</td>\n",
       "      <td>0.000000</td>\n",
       "      <td>1.000000</td>\n",
       "      <td>0.000000</td>\n",
       "      <td>0.000000</td>\n",
       "      <td>0.000000</td>\n",
       "      <td>0.000000</td>\n",
       "      <td>1.000000</td>\n",
       "    </tr>\n",
       "    <tr>\n",
       "      <th>max</th>\n",
       "      <td>27.000000</td>\n",
       "      <td>3398.750000</td>\n",
       "      <td>24.000000</td>\n",
       "      <td>2549.375000</td>\n",
       "      <td>705.000000</td>\n",
       "      <td>63973.522230</td>\n",
       "      <td>0.200000</td>\n",
       "      <td>0.200000</td>\n",
       "      <td>361.763742</td>\n",
       "      <td>1.000000</td>\n",
       "      <td>...</td>\n",
       "      <td>1.000000</td>\n",
       "      <td>1.000000</td>\n",
       "      <td>1.000000</td>\n",
       "      <td>1.000000</td>\n",
       "      <td>1.000000</td>\n",
       "      <td>1.000000</td>\n",
       "      <td>1.000000</td>\n",
       "      <td>1.000000</td>\n",
       "      <td>1.000000</td>\n",
       "      <td>1.000000</td>\n",
       "    </tr>\n",
       "  </tbody>\n",
       "</table>\n",
       "<p>8 rows × 27 columns</p>\n",
       "</div>"
      ],
      "text/plain": [
       "       Administrative  Administrative_Duration  Informational  \\\n",
       "count    11097.000000             11097.000000   11097.000000   \n",
       "mean         2.341984                81.629754       0.502658   \n",
       "std          3.342301               178.099128       1.262578   \n",
       "min          0.000000                 0.000000       0.000000   \n",
       "25%          0.000000                 0.000000       0.000000   \n",
       "50%          1.000000                 9.000000       0.000000   \n",
       "75%          4.000000                94.250000       0.000000   \n",
       "max         27.000000              3398.750000      24.000000   \n",
       "\n",
       "       Informational_Duration  ProductRelated  ProductRelated_Duration  \\\n",
       "count            11097.000000    11097.000000             11097.000000   \n",
       "mean                34.540549       31.793998              1198.051909   \n",
       "std                140.744461       44.695069              1931.046554   \n",
       "min                  0.000000        0.000000                 0.000000   \n",
       "25%                  0.000000        7.000000               185.000000   \n",
       "50%                  0.000000       18.000000               599.613333   \n",
       "75%                  0.000000       38.000000              1466.088462   \n",
       "max               2549.375000      705.000000             63973.522230   \n",
       "\n",
       "        BounceRates     ExitRates    PageValues    SpecialDay  ...  \\\n",
       "count  11097.000000  11097.000000  11097.000000  11097.000000  ...   \n",
       "mean       0.022193      0.042987      5.948523      0.061440  ...   \n",
       "std        0.048427      0.048459     18.681972      0.199185  ...   \n",
       "min        0.000000      0.000000      0.000000      0.000000  ...   \n",
       "25%        0.000000      0.014286      0.000000      0.000000  ...   \n",
       "50%        0.003077      0.025128      0.000000      0.000000  ...   \n",
       "75%        0.017143      0.050000      0.000000      0.000000  ...   \n",
       "max        0.200000      0.200000    361.763742      1.000000  ...   \n",
       "\n",
       "          Month_Feb     Month_Jul    Month_June     Month_Mar     Month_May  \\\n",
       "count  11097.000000  11097.000000  11097.000000  11097.000000  11097.000000   \n",
       "mean       0.015319      0.034874      0.022979      0.154636      0.272146   \n",
       "std        0.122826      0.183470      0.149844      0.361574      0.445085   \n",
       "min        0.000000      0.000000      0.000000      0.000000      0.000000   \n",
       "25%        0.000000      0.000000      0.000000      0.000000      0.000000   \n",
       "50%        0.000000      0.000000      0.000000      0.000000      0.000000   \n",
       "75%        0.000000      0.000000      0.000000      0.000000      1.000000   \n",
       "max        1.000000      1.000000      1.000000      1.000000      1.000000   \n",
       "\n",
       "          Month_Nov     Month_Oct     Month_Sep  VisitorType_Other  \\\n",
       "count  11097.000000  11097.000000  11097.000000       11097.000000   \n",
       "mean       0.244480      0.044697      0.036226           0.006668   \n",
       "std        0.429798      0.206647      0.186860           0.081392   \n",
       "min        0.000000      0.000000      0.000000           0.000000   \n",
       "25%        0.000000      0.000000      0.000000           0.000000   \n",
       "50%        0.000000      0.000000      0.000000           0.000000   \n",
       "75%        0.000000      0.000000      0.000000           0.000000   \n",
       "max        1.000000      1.000000      1.000000           1.000000   \n",
       "\n",
       "       VisitorType_Returning_Visitor  \n",
       "count                   11097.000000  \n",
       "mean                        0.855456  \n",
       "std                         0.351656  \n",
       "min                         0.000000  \n",
       "25%                         1.000000  \n",
       "50%                         1.000000  \n",
       "75%                         1.000000  \n",
       "max                         1.000000  \n",
       "\n",
       "[8 rows x 27 columns]"
      ]
     },
     "execution_count": 55,
     "metadata": {},
     "output_type": "execute_result"
    }
   ],
   "source": [
    "df2.describe()"
   ]
  },
  {
   "cell_type": "markdown",
   "id": "479171da-e24c-43b4-98a7-592320f02f21",
   "metadata": {},
   "source": [
    "-------------\n",
    "**Feature Scaling**"
   ]
  },
  {
   "cell_type": "code",
   "execution_count": 70,
   "id": "6de1491b-e710-4843-82cd-eb4a95674822",
   "metadata": {},
   "outputs": [],
   "source": [
    "# Apply MinMax normalization on features\n",
    "\n",
    "scaler = MinMaxScaler()\n",
    "df2[df2.columns] = scaler.fit_transform(df2[df2.columns]) "
   ]
  },
  {
   "cell_type": "code",
   "execution_count": 71,
   "id": "4455f9f2-035e-4b33-9456-c10aee215827",
   "metadata": {},
   "outputs": [
    {
     "data": {
      "text/html": [
       "<div>\n",
       "<style scoped>\n",
       "    .dataframe tbody tr th:only-of-type {\n",
       "        vertical-align: middle;\n",
       "    }\n",
       "\n",
       "    .dataframe tbody tr th {\n",
       "        vertical-align: top;\n",
       "    }\n",
       "\n",
       "    .dataframe thead th {\n",
       "        text-align: right;\n",
       "    }\n",
       "</style>\n",
       "<table border=\"1\" class=\"dataframe\">\n",
       "  <thead>\n",
       "    <tr style=\"text-align: right;\">\n",
       "      <th></th>\n",
       "      <th>Administrative</th>\n",
       "      <th>Administrative_Duration</th>\n",
       "      <th>Informational</th>\n",
       "      <th>Informational_Duration</th>\n",
       "      <th>ProductRelated</th>\n",
       "      <th>ProductRelated_Duration</th>\n",
       "      <th>BounceRates</th>\n",
       "      <th>ExitRates</th>\n",
       "      <th>PageValues</th>\n",
       "      <th>SpecialDay</th>\n",
       "      <th>...</th>\n",
       "      <th>Month_Feb</th>\n",
       "      <th>Month_Jul</th>\n",
       "      <th>Month_June</th>\n",
       "      <th>Month_Mar</th>\n",
       "      <th>Month_May</th>\n",
       "      <th>Month_Nov</th>\n",
       "      <th>Month_Oct</th>\n",
       "      <th>Month_Sep</th>\n",
       "      <th>VisitorType_Other</th>\n",
       "      <th>VisitorType_Returning_Visitor</th>\n",
       "    </tr>\n",
       "  </thead>\n",
       "  <tbody>\n",
       "    <tr>\n",
       "      <th>count</th>\n",
       "      <td>11097.000000</td>\n",
       "      <td>11097.000000</td>\n",
       "      <td>11097.000000</td>\n",
       "      <td>11097.000000</td>\n",
       "      <td>11097.000000</td>\n",
       "      <td>11097.000000</td>\n",
       "      <td>11097.000000</td>\n",
       "      <td>11097.000000</td>\n",
       "      <td>11097.000000</td>\n",
       "      <td>11097.000000</td>\n",
       "      <td>...</td>\n",
       "      <td>11097.000000</td>\n",
       "      <td>11097.000000</td>\n",
       "      <td>11097.000000</td>\n",
       "      <td>11097.000000</td>\n",
       "      <td>11097.000000</td>\n",
       "      <td>11097.000000</td>\n",
       "      <td>11097.000000</td>\n",
       "      <td>11097.000000</td>\n",
       "      <td>11097.000000</td>\n",
       "      <td>11097.000000</td>\n",
       "    </tr>\n",
       "    <tr>\n",
       "      <th>mean</th>\n",
       "      <td>0.086740</td>\n",
       "      <td>0.024018</td>\n",
       "      <td>0.020944</td>\n",
       "      <td>0.013549</td>\n",
       "      <td>0.045098</td>\n",
       "      <td>0.018727</td>\n",
       "      <td>0.110966</td>\n",
       "      <td>0.214933</td>\n",
       "      <td>0.016443</td>\n",
       "      <td>0.061440</td>\n",
       "      <td>...</td>\n",
       "      <td>0.015319</td>\n",
       "      <td>0.034874</td>\n",
       "      <td>0.022979</td>\n",
       "      <td>0.154636</td>\n",
       "      <td>0.272146</td>\n",
       "      <td>0.244480</td>\n",
       "      <td>0.044697</td>\n",
       "      <td>0.036226</td>\n",
       "      <td>0.006668</td>\n",
       "      <td>0.855456</td>\n",
       "    </tr>\n",
       "    <tr>\n",
       "      <th>std</th>\n",
       "      <td>0.123789</td>\n",
       "      <td>0.052401</td>\n",
       "      <td>0.052607</td>\n",
       "      <td>0.055207</td>\n",
       "      <td>0.063397</td>\n",
       "      <td>0.030185</td>\n",
       "      <td>0.242136</td>\n",
       "      <td>0.242297</td>\n",
       "      <td>0.051641</td>\n",
       "      <td>0.199185</td>\n",
       "      <td>...</td>\n",
       "      <td>0.122826</td>\n",
       "      <td>0.183470</td>\n",
       "      <td>0.149844</td>\n",
       "      <td>0.361574</td>\n",
       "      <td>0.445085</td>\n",
       "      <td>0.429798</td>\n",
       "      <td>0.206647</td>\n",
       "      <td>0.186860</td>\n",
       "      <td>0.081392</td>\n",
       "      <td>0.351656</td>\n",
       "    </tr>\n",
       "    <tr>\n",
       "      <th>min</th>\n",
       "      <td>0.000000</td>\n",
       "      <td>0.000000</td>\n",
       "      <td>0.000000</td>\n",
       "      <td>0.000000</td>\n",
       "      <td>0.000000</td>\n",
       "      <td>0.000000</td>\n",
       "      <td>0.000000</td>\n",
       "      <td>0.000000</td>\n",
       "      <td>0.000000</td>\n",
       "      <td>0.000000</td>\n",
       "      <td>...</td>\n",
       "      <td>0.000000</td>\n",
       "      <td>0.000000</td>\n",
       "      <td>0.000000</td>\n",
       "      <td>0.000000</td>\n",
       "      <td>0.000000</td>\n",
       "      <td>0.000000</td>\n",
       "      <td>0.000000</td>\n",
       "      <td>0.000000</td>\n",
       "      <td>0.000000</td>\n",
       "      <td>0.000000</td>\n",
       "    </tr>\n",
       "    <tr>\n",
       "      <th>25%</th>\n",
       "      <td>0.000000</td>\n",
       "      <td>0.000000</td>\n",
       "      <td>0.000000</td>\n",
       "      <td>0.000000</td>\n",
       "      <td>0.009929</td>\n",
       "      <td>0.002892</td>\n",
       "      <td>0.000000</td>\n",
       "      <td>0.071429</td>\n",
       "      <td>0.000000</td>\n",
       "      <td>0.000000</td>\n",
       "      <td>...</td>\n",
       "      <td>0.000000</td>\n",
       "      <td>0.000000</td>\n",
       "      <td>0.000000</td>\n",
       "      <td>0.000000</td>\n",
       "      <td>0.000000</td>\n",
       "      <td>0.000000</td>\n",
       "      <td>0.000000</td>\n",
       "      <td>0.000000</td>\n",
       "      <td>0.000000</td>\n",
       "      <td>1.000000</td>\n",
       "    </tr>\n",
       "    <tr>\n",
       "      <th>50%</th>\n",
       "      <td>0.037037</td>\n",
       "      <td>0.002648</td>\n",
       "      <td>0.000000</td>\n",
       "      <td>0.000000</td>\n",
       "      <td>0.025532</td>\n",
       "      <td>0.009373</td>\n",
       "      <td>0.015385</td>\n",
       "      <td>0.125641</td>\n",
       "      <td>0.000000</td>\n",
       "      <td>0.000000</td>\n",
       "      <td>...</td>\n",
       "      <td>0.000000</td>\n",
       "      <td>0.000000</td>\n",
       "      <td>0.000000</td>\n",
       "      <td>0.000000</td>\n",
       "      <td>0.000000</td>\n",
       "      <td>0.000000</td>\n",
       "      <td>0.000000</td>\n",
       "      <td>0.000000</td>\n",
       "      <td>0.000000</td>\n",
       "      <td>1.000000</td>\n",
       "    </tr>\n",
       "    <tr>\n",
       "      <th>75%</th>\n",
       "      <td>0.148148</td>\n",
       "      <td>0.027731</td>\n",
       "      <td>0.000000</td>\n",
       "      <td>0.000000</td>\n",
       "      <td>0.053901</td>\n",
       "      <td>0.022917</td>\n",
       "      <td>0.085714</td>\n",
       "      <td>0.250000</td>\n",
       "      <td>0.000000</td>\n",
       "      <td>0.000000</td>\n",
       "      <td>...</td>\n",
       "      <td>0.000000</td>\n",
       "      <td>0.000000</td>\n",
       "      <td>0.000000</td>\n",
       "      <td>0.000000</td>\n",
       "      <td>1.000000</td>\n",
       "      <td>0.000000</td>\n",
       "      <td>0.000000</td>\n",
       "      <td>0.000000</td>\n",
       "      <td>0.000000</td>\n",
       "      <td>1.000000</td>\n",
       "    </tr>\n",
       "    <tr>\n",
       "      <th>max</th>\n",
       "      <td>1.000000</td>\n",
       "      <td>1.000000</td>\n",
       "      <td>1.000000</td>\n",
       "      <td>1.000000</td>\n",
       "      <td>1.000000</td>\n",
       "      <td>1.000000</td>\n",
       "      <td>1.000000</td>\n",
       "      <td>1.000000</td>\n",
       "      <td>1.000000</td>\n",
       "      <td>1.000000</td>\n",
       "      <td>...</td>\n",
       "      <td>1.000000</td>\n",
       "      <td>1.000000</td>\n",
       "      <td>1.000000</td>\n",
       "      <td>1.000000</td>\n",
       "      <td>1.000000</td>\n",
       "      <td>1.000000</td>\n",
       "      <td>1.000000</td>\n",
       "      <td>1.000000</td>\n",
       "      <td>1.000000</td>\n",
       "      <td>1.000000</td>\n",
       "    </tr>\n",
       "  </tbody>\n",
       "</table>\n",
       "<p>8 rows × 27 columns</p>\n",
       "</div>"
      ],
      "text/plain": [
       "       Administrative  Administrative_Duration  Informational  \\\n",
       "count    11097.000000             11097.000000   11097.000000   \n",
       "mean         0.086740                 0.024018       0.020944   \n",
       "std          0.123789                 0.052401       0.052607   \n",
       "min          0.000000                 0.000000       0.000000   \n",
       "25%          0.000000                 0.000000       0.000000   \n",
       "50%          0.037037                 0.002648       0.000000   \n",
       "75%          0.148148                 0.027731       0.000000   \n",
       "max          1.000000                 1.000000       1.000000   \n",
       "\n",
       "       Informational_Duration  ProductRelated  ProductRelated_Duration  \\\n",
       "count            11097.000000    11097.000000             11097.000000   \n",
       "mean                 0.013549        0.045098                 0.018727   \n",
       "std                  0.055207        0.063397                 0.030185   \n",
       "min                  0.000000        0.000000                 0.000000   \n",
       "25%                  0.000000        0.009929                 0.002892   \n",
       "50%                  0.000000        0.025532                 0.009373   \n",
       "75%                  0.000000        0.053901                 0.022917   \n",
       "max                  1.000000        1.000000                 1.000000   \n",
       "\n",
       "        BounceRates     ExitRates    PageValues    SpecialDay  ...  \\\n",
       "count  11097.000000  11097.000000  11097.000000  11097.000000  ...   \n",
       "mean       0.110966      0.214933      0.016443      0.061440  ...   \n",
       "std        0.242136      0.242297      0.051641      0.199185  ...   \n",
       "min        0.000000      0.000000      0.000000      0.000000  ...   \n",
       "25%        0.000000      0.071429      0.000000      0.000000  ...   \n",
       "50%        0.015385      0.125641      0.000000      0.000000  ...   \n",
       "75%        0.085714      0.250000      0.000000      0.000000  ...   \n",
       "max        1.000000      1.000000      1.000000      1.000000  ...   \n",
       "\n",
       "          Month_Feb     Month_Jul    Month_June     Month_Mar     Month_May  \\\n",
       "count  11097.000000  11097.000000  11097.000000  11097.000000  11097.000000   \n",
       "mean       0.015319      0.034874      0.022979      0.154636      0.272146   \n",
       "std        0.122826      0.183470      0.149844      0.361574      0.445085   \n",
       "min        0.000000      0.000000      0.000000      0.000000      0.000000   \n",
       "25%        0.000000      0.000000      0.000000      0.000000      0.000000   \n",
       "50%        0.000000      0.000000      0.000000      0.000000      0.000000   \n",
       "75%        0.000000      0.000000      0.000000      0.000000      1.000000   \n",
       "max        1.000000      1.000000      1.000000      1.000000      1.000000   \n",
       "\n",
       "          Month_Nov     Month_Oct     Month_Sep  VisitorType_Other  \\\n",
       "count  11097.000000  11097.000000  11097.000000       11097.000000   \n",
       "mean       0.244480      0.044697      0.036226           0.006668   \n",
       "std        0.429798      0.206647      0.186860           0.081392   \n",
       "min        0.000000      0.000000      0.000000           0.000000   \n",
       "25%        0.000000      0.000000      0.000000           0.000000   \n",
       "50%        0.000000      0.000000      0.000000           0.000000   \n",
       "75%        0.000000      0.000000      0.000000           0.000000   \n",
       "max        1.000000      1.000000      1.000000           1.000000   \n",
       "\n",
       "       VisitorType_Returning_Visitor  \n",
       "count                   11097.000000  \n",
       "mean                        0.855456  \n",
       "std                         0.351656  \n",
       "min                         0.000000  \n",
       "25%                         1.000000  \n",
       "50%                         1.000000  \n",
       "75%                         1.000000  \n",
       "max                         1.000000  \n",
       "\n",
       "[8 rows x 27 columns]"
      ]
     },
     "execution_count": 71,
     "metadata": {},
     "output_type": "execute_result"
    }
   ],
   "source": [
    "df2.describe()"
   ]
  },
  {
   "cell_type": "markdown",
   "id": "bcf9ffd3-67a9-4b15-9021-34cd6f9a5efd",
   "metadata": {},
   "source": [
    "----------------------------\n",
    "---------------------------"
   ]
  },
  {
   "cell_type": "markdown",
   "id": "91b09a68-81c2-4153-a7a7-b1777e063fcb",
   "metadata": {
    "tags": []
   },
   "source": [
    "## Feature Selection"
   ]
  },
  {
   "cell_type": "markdown",
   "id": "27618596-f43e-4a11-bc3c-1ec4f9fbdbfe",
   "metadata": {},
   "source": [
    "To prevent data leakage, the dataset is split into training and validation prior to Feature Selection. Feature importance would be analyzed and derived from the training set, and applied to the validation set"
   ]
  },
  {
   "cell_type": "code",
   "execution_count": 59,
   "id": "00290afe-e3a9-41e9-9bda-eb43b6cd9526",
   "metadata": {},
   "outputs": [],
   "source": [
    "x = df2.drop('Revenue', axis = 1)\n",
    "y = df2['Revenue']"
   ]
  },
  {
   "cell_type": "code",
   "execution_count": 61,
   "id": "221d27ee-7586-453c-bdfd-23be48985e33",
   "metadata": {},
   "outputs": [],
   "source": [
    "x_train, x_valid, y_train, y_valid = train_test_split(x, y, test_size=0.2, random_state=1, stratify = y)"
   ]
  },
  {
   "cell_type": "code",
   "execution_count": 62,
   "id": "73dc68c0-0d35-4815-a014-4542a9ca8e76",
   "metadata": {},
   "outputs": [],
   "source": [
    "# Create Function to perform feature selection\n",
    "\n",
    "def select_features(x_train, y_train, x_valid):\n",
    "    \n",
    "    # configure to top 15 features\n",
    "    fs = SelectKBest(score_func=mutual_info_classif, k=10)\n",
    "    \n",
    "    # learn relationship from training data\n",
    "    fs.fit(x_train, y_train)\n",
    "    \n",
    "    # filter train set\n",
    "    cols = fs.get_support(indices=True)\n",
    "    x_train_fs = x_train.iloc[:,cols]\n",
    "    \n",
    "    # filter test set\n",
    "    x_valid_fs = x_valid.iloc[:,cols]\n",
    "    \n",
    "    return x_train_fs, x_valid_fs, fs"
   ]
  },
  {
   "cell_type": "code",
   "execution_count": 63,
   "id": "4d071e56-3ad1-4519-9281-8b13c97c5c3b",
   "metadata": {},
   "outputs": [
    {
     "name": "stdout",
     "output_type": "stream",
     "text": [
      "Feature 0: 0.013215\n",
      "Feature 1: 0.017397\n",
      "Feature 2: 0.006349\n",
      "Feature 3: 0.003687\n",
      "Feature 4: 0.023848\n",
      "Feature 5: 0.032115\n",
      "Feature 6: 0.026703\n",
      "Feature 7: 0.045525\n",
      "Feature 8: 0.173283\n",
      "Feature 9: 0.004404\n",
      "Feature 10: 0.001261\n",
      "Feature 11: 0.000000\n",
      "Feature 12: 0.000000\n",
      "Feature 13: 0.016784\n",
      "Feature 14: 0.002159\n",
      "Feature 15: 0.000000\n",
      "Feature 16: 0.001363\n",
      "Feature 17: 0.000000\n",
      "Feature 18: 0.001463\n",
      "Feature 19: 0.002925\n",
      "Feature 20: 0.000000\n",
      "Feature 21: 0.010245\n",
      "Feature 22: 0.000000\n",
      "Feature 23: 0.000457\n",
      "Feature 24: 0.000000\n",
      "Feature 25: 0.011131\n"
     ]
    },
    {
     "data": {
      "image/png": "[encoded data removed]",
      "text/plain": [
       "<Figure size 432x288 with 1 Axes>"
      ]
     },
     "metadata": {
      "needs_background": "light"
     },
     "output_type": "display_data"
    }
   ],
   "source": [
    "x_train_fs, x_valid_fs, fs = select_features(x_train, y_train, x_valid)\n",
    "\n",
    "# What are scores for the features\n",
    "for i in range(len(fs.scores_)):\n",
    "    print('Feature %d: %f' % (i, fs.scores_[i]))\n",
    "    \n",
    "# plot the scores\n",
    "pyplot.bar([i for i in range(len(fs.scores_))], fs.scores_)\n",
    "pyplot.show()"
   ]
  },
  {
   "cell_type": "code",
   "execution_count": 64,
   "id": "0e2cff9a-9da0-4c32-a732-3edfc0cac10d",
   "metadata": {},
   "outputs": [
    {
     "data": {
      "text/plain": [
       "Administrative                   float64\n",
       "Administrative_Duration          float64\n",
       "ProductRelated                   float64\n",
       "ProductRelated_Duration          float64\n",
       "BounceRates                      float64\n",
       "ExitRates                        float64\n",
       "PageValues                       float64\n",
       "TrafficType                      float64\n",
       "Month_Nov                        float64\n",
       "VisitorType_Returning_Visitor    float64\n",
       "dtype: object"
      ]
     },
     "execution_count": 64,
     "metadata": {},
     "output_type": "execute_result"
    }
   ],
   "source": [
    "x_train_fs.dtypes"
   ]
  },
  {
   "cell_type": "code",
   "execution_count": null,
   "id": "32662382-f579-488f-b225-529d2e6d88f8",
   "metadata": {},
   "outputs": [],
   "source": []
  },
  {
   "cell_type": "code",
   "execution_count": 65,
   "id": "06b55fed-1020-4ce2-ae46-d8260416025a",
   "metadata": {},
   "outputs": [
    {
     "data": {
      "text/plain": [
       "(8877, 10)"
      ]
     },
     "execution_count": 65,
     "metadata": {},
     "output_type": "execute_result"
    }
   ],
   "source": [
    "np.shape(x_train_fs)"
   ]
  },
  {
   "cell_type": "code",
   "execution_count": 66,
   "id": "e1d96a03-d545-4078-9721-d94b0c6203b3",
   "metadata": {},
   "outputs": [
    {
     "data": {
      "text/plain": [
       "Administrative                   float64\n",
       "Administrative_Duration          float64\n",
       "ProductRelated                   float64\n",
       "ProductRelated_Duration          float64\n",
       "BounceRates                      float64\n",
       "ExitRates                        float64\n",
       "PageValues                       float64\n",
       "TrafficType                      float64\n",
       "Month_Nov                        float64\n",
       "VisitorType_Returning_Visitor    float64\n",
       "dtype: object"
      ]
     },
     "execution_count": 66,
     "metadata": {},
     "output_type": "execute_result"
    }
   ],
   "source": [
    "x_valid_fs.dtypes"
   ]
  },
  {
   "cell_type": "code",
   "execution_count": 67,
   "id": "a5eb8756-8485-4243-b72f-58c2429dcd5b",
   "metadata": {},
   "outputs": [
    {
     "data": {
      "text/plain": [
       "(2220, 10)"
      ]
     },
     "execution_count": 67,
     "metadata": {},
     "output_type": "execute_result"
    }
   ],
   "source": [
    "np.shape(x_valid_fs)"
   ]
  },
  {
   "cell_type": "markdown",
   "id": "9902e508-3410-4361-aa02-3eb086bcac33",
   "metadata": {},
   "source": [
    "-------------\n",
    "-------------"
   ]
  },
  {
   "cell_type": "markdown",
   "id": "d5d40544-3572-4689-ba2b-52e3d3cf3682",
   "metadata": {},
   "source": [
    "## Modelling"
   ]
  },
  {
   "cell_type": "markdown",
   "id": "157bd269-d321-47b3-99f4-eef925950075",
   "metadata": {},
   "source": [
    "**Balancing Dataset**"
   ]
  },
  {
   "cell_type": "markdown",
   "id": "1dcdab8e-3023-4e7a-9dac-d7f31065c2da",
   "metadata": {},
   "source": [
    "- As the dataset is imbalanced with Revenue = 1 being the minority class, we need to perform some level of class balancing. \n",
    "\n",
    "- Due to large difference between the minority and majority class, the recommended approach would be to couple oversampling with undersampling. As such, SMOTE is used to oversample the minority class while RandomUndersampler is used to undersample the majority class\n",
    "\n",
    "- To much Oversampling can result in unreliable training due to data being synthetic representations in the case of SMOTE. On the other hand, if the dataset is only undersampled, we could lose important information that may be critical for training.\n",
    "\n",
    "- Hence to balance the trade off, coupling oversampling and undersampling would be a better stratergy"
   ]
  },
  {
   "cell_type": "code",
   "execution_count": 95,
   "id": "8aaa5fc0-d201-4fe6-8aa5-55149f08a574",
   "metadata": {},
   "outputs": [],
   "source": [
    "over = SMOTE(sampling_strategy=0.6)\n",
    "under = RandomUnderSampler(sampling_strategy=0.7)"
   ]
  },
  {
   "cell_type": "code",
   "execution_count": 96,
   "id": "482f3d6f-28e5-421d-89fe-ed680440646d",
   "metadata": {},
   "outputs": [],
   "source": [
    "# Create Pipeline for sampling\n",
    "\n",
    "# Oversample first before Undersampling\n",
    "steps = [('o', over), ('u', under)]\n",
    "pipeline = Pipeline(steps=steps)\n",
    "\n",
    "# Perform over and undersampling on the training set\n",
    "x_balanced, y_balanced = pipeline.fit_resample(x_train_fs, y_train)"
   ]
  },
  {
   "cell_type": "markdown",
   "id": "6515ace7-0e8a-4024-8d5f-686a7abf809b",
   "metadata": {},
   "source": [
    "DV Counts Before Balancing"
   ]
  },
  {
   "cell_type": "code",
   "execution_count": 97,
   "id": "0f9da2c3-18e9-4279-997d-d833939e2b0a",
   "metadata": {},
   "outputs": [
    {
     "data": {
      "text/plain": [
       "0.0    7503\n",
       "1.0    1374\n",
       "Name: Revenue, dtype: int64"
      ]
     },
     "execution_count": 97,
     "metadata": {},
     "output_type": "execute_result"
    }
   ],
   "source": [
    "y_train.value_counts()"
   ]
  },
  {
   "cell_type": "markdown",
   "id": "670d6bfc-6b5d-4100-8631-514153a3d88d",
   "metadata": {},
   "source": [
    "DV Counts After Balancing"
   ]
  },
  {
   "cell_type": "code",
   "execution_count": 98,
   "id": "004e43ec-ea5b-4d25-b6ab-d79680eec1f9",
   "metadata": {},
   "outputs": [
    {
     "data": {
      "text/plain": [
       "0.0    6430\n",
       "1.0    4501\n",
       "Name: Revenue, dtype: int64"
      ]
     },
     "execution_count": 98,
     "metadata": {},
     "output_type": "execute_result"
    }
   ],
   "source": [
    "y_balanced.value_counts()"
   ]
  },
  {
   "cell_type": "markdown",
   "id": "c40b0ad5-90d7-496f-97bc-57962ec90306",
   "metadata": {},
   "source": [
    "**Save filtered and balanced training set to CSV**"
   ]
  },
  {
   "cell_type": "code",
   "execution_count": 99,
   "id": "4460e734-2b09-4947-87b4-2ec696d4b17a",
   "metadata": {},
   "outputs": [],
   "source": [
    "balanced_dataset_test = pd.concat([x_balanced, y_balanced], axis=1)"
   ]
  },
  {
   "cell_type": "code",
   "execution_count": 100,
   "id": "003b2b57-93b5-49ec-937c-458e374877b1",
   "metadata": {},
   "outputs": [
    {
     "data": {
      "text/html": [
       "<div>\n",
       "<style scoped>\n",
       "    .dataframe tbody tr th:only-of-type {\n",
       "        vertical-align: middle;\n",
       "    }\n",
       "\n",
       "    .dataframe tbody tr th {\n",
       "        vertical-align: top;\n",
       "    }\n",
       "\n",
       "    .dataframe thead th {\n",
       "        text-align: right;\n",
       "    }\n",
       "</style>\n",
       "<table border=\"1\" class=\"dataframe\">\n",
       "  <thead>\n",
       "    <tr style=\"text-align: right;\">\n",
       "      <th></th>\n",
       "      <th>Administrative</th>\n",
       "      <th>Administrative_Duration</th>\n",
       "      <th>ProductRelated</th>\n",
       "      <th>ProductRelated_Duration</th>\n",
       "      <th>BounceRates</th>\n",
       "      <th>ExitRates</th>\n",
       "      <th>PageValues</th>\n",
       "      <th>TrafficType</th>\n",
       "      <th>Month_Nov</th>\n",
       "      <th>VisitorType_Returning_Visitor</th>\n",
       "      <th>Revenue</th>\n",
       "    </tr>\n",
       "  </thead>\n",
       "  <tbody>\n",
       "    <tr>\n",
       "      <th>0</th>\n",
       "      <td>0.000000</td>\n",
       "      <td>0.000000</td>\n",
       "      <td>0.007092</td>\n",
       "      <td>0.007097</td>\n",
       "      <td>0.000000</td>\n",
       "      <td>0.250000</td>\n",
       "      <td>0.000000</td>\n",
       "      <td>0.263158</td>\n",
       "      <td>0.0</td>\n",
       "      <td>1.0</td>\n",
       "      <td>0.0</td>\n",
       "    </tr>\n",
       "    <tr>\n",
       "      <th>1</th>\n",
       "      <td>0.037037</td>\n",
       "      <td>0.002648</td>\n",
       "      <td>0.065248</td>\n",
       "      <td>0.063845</td>\n",
       "      <td>0.000000</td>\n",
       "      <td>0.008974</td>\n",
       "      <td>0.000000</td>\n",
       "      <td>0.157895</td>\n",
       "      <td>0.0</td>\n",
       "      <td>1.0</td>\n",
       "      <td>0.0</td>\n",
       "    </tr>\n",
       "    <tr>\n",
       "      <th>2</th>\n",
       "      <td>0.148148</td>\n",
       "      <td>0.028393</td>\n",
       "      <td>0.059574</td>\n",
       "      <td>0.033957</td>\n",
       "      <td>0.000000</td>\n",
       "      <td>0.056202</td>\n",
       "      <td>0.097395</td>\n",
       "      <td>0.052632</td>\n",
       "      <td>0.0</td>\n",
       "      <td>1.0</td>\n",
       "      <td>0.0</td>\n",
       "    </tr>\n",
       "    <tr>\n",
       "      <th>3</th>\n",
       "      <td>0.148148</td>\n",
       "      <td>0.038838</td>\n",
       "      <td>0.009929</td>\n",
       "      <td>0.022092</td>\n",
       "      <td>0.180000</td>\n",
       "      <td>0.146429</td>\n",
       "      <td>0.000000</td>\n",
       "      <td>0.368421</td>\n",
       "      <td>0.0</td>\n",
       "      <td>1.0</td>\n",
       "      <td>0.0</td>\n",
       "    </tr>\n",
       "    <tr>\n",
       "      <th>4</th>\n",
       "      <td>0.000000</td>\n",
       "      <td>0.000000</td>\n",
       "      <td>0.019858</td>\n",
       "      <td>0.005179</td>\n",
       "      <td>0.000000</td>\n",
       "      <td>0.076923</td>\n",
       "      <td>0.000000</td>\n",
       "      <td>0.000000</td>\n",
       "      <td>0.0</td>\n",
       "      <td>1.0</td>\n",
       "      <td>0.0</td>\n",
       "    </tr>\n",
       "    <tr>\n",
       "      <th>...</th>\n",
       "      <td>...</td>\n",
       "      <td>...</td>\n",
       "      <td>...</td>\n",
       "      <td>...</td>\n",
       "      <td>...</td>\n",
       "      <td>...</td>\n",
       "      <td>...</td>\n",
       "      <td>...</td>\n",
       "      <td>...</td>\n",
       "      <td>...</td>\n",
       "      <td>...</td>\n",
       "    </tr>\n",
       "    <tr>\n",
       "      <th>10926</th>\n",
       "      <td>0.156115</td>\n",
       "      <td>0.070487</td>\n",
       "      <td>0.051048</td>\n",
       "      <td>0.026788</td>\n",
       "      <td>0.000000</td>\n",
       "      <td>0.039496</td>\n",
       "      <td>0.119441</td>\n",
       "      <td>0.157895</td>\n",
       "      <td>0.0</td>\n",
       "      <td>1.0</td>\n",
       "      <td>1.0</td>\n",
       "    </tr>\n",
       "    <tr>\n",
       "      <th>10927</th>\n",
       "      <td>0.007636</td>\n",
       "      <td>0.000546</td>\n",
       "      <td>0.137179</td>\n",
       "      <td>0.036441</td>\n",
       "      <td>0.011025</td>\n",
       "      <td>0.059675</td>\n",
       "      <td>0.038808</td>\n",
       "      <td>0.147044</td>\n",
       "      <td>0.0</td>\n",
       "      <td>1.0</td>\n",
       "      <td>1.0</td>\n",
       "    </tr>\n",
       "    <tr>\n",
       "      <th>10928</th>\n",
       "      <td>0.190553</td>\n",
       "      <td>0.046116</td>\n",
       "      <td>0.014720</td>\n",
       "      <td>0.006797</td>\n",
       "      <td>0.000000</td>\n",
       "      <td>0.042400</td>\n",
       "      <td>0.000000</td>\n",
       "      <td>0.052632</td>\n",
       "      <td>1.0</td>\n",
       "      <td>0.0</td>\n",
       "      <td>1.0</td>\n",
       "    </tr>\n",
       "    <tr>\n",
       "      <th>10929</th>\n",
       "      <td>0.000000</td>\n",
       "      <td>0.000000</td>\n",
       "      <td>0.017567</td>\n",
       "      <td>0.014157</td>\n",
       "      <td>0.000000</td>\n",
       "      <td>0.236678</td>\n",
       "      <td>0.034698</td>\n",
       "      <td>0.028847</td>\n",
       "      <td>0.0</td>\n",
       "      <td>1.0</td>\n",
       "      <td>1.0</td>\n",
       "    </tr>\n",
       "    <tr>\n",
       "      <th>10930</th>\n",
       "      <td>0.296296</td>\n",
       "      <td>0.180286</td>\n",
       "      <td>0.041013</td>\n",
       "      <td>0.019521</td>\n",
       "      <td>0.002338</td>\n",
       "      <td>0.021516</td>\n",
       "      <td>0.102775</td>\n",
       "      <td>0.060752</td>\n",
       "      <td>1.0</td>\n",
       "      <td>1.0</td>\n",
       "      <td>1.0</td>\n",
       "    </tr>\n",
       "  </tbody>\n",
       "</table>\n",
       "<p>10931 rows × 11 columns</p>\n",
       "</div>"
      ],
      "text/plain": [
       "       Administrative  Administrative_Duration  ProductRelated  \\\n",
       "0            0.000000                 0.000000        0.007092   \n",
       "1            0.037037                 0.002648        0.065248   \n",
       "2            0.148148                 0.028393        0.059574   \n",
       "3            0.148148                 0.038838        0.009929   \n",
       "4            0.000000                 0.000000        0.019858   \n",
       "...               ...                      ...             ...   \n",
       "10926        0.156115                 0.070487        0.051048   \n",
       "10927        0.007636                 0.000546        0.137179   \n",
       "10928        0.190553                 0.046116        0.014720   \n",
       "10929        0.000000                 0.000000        0.017567   \n",
       "10930        0.296296                 0.180286        0.041013   \n",
       "\n",
       "       ProductRelated_Duration  BounceRates  ExitRates  PageValues  \\\n",
       "0                     0.007097     0.000000   0.250000    0.000000   \n",
       "1                     0.063845     0.000000   0.008974    0.000000   \n",
       "2                     0.033957     0.000000   0.056202    0.097395   \n",
       "3                     0.022092     0.180000   0.146429    0.000000   \n",
       "4                     0.005179     0.000000   0.076923    0.000000   \n",
       "...                        ...          ...        ...         ...   \n",
       "10926                 0.026788     0.000000   0.039496    0.119441   \n",
       "10927                 0.036441     0.011025   0.059675    0.038808   \n",
       "10928                 0.006797     0.000000   0.042400    0.000000   \n",
       "10929                 0.014157     0.000000   0.236678    0.034698   \n",
       "10930                 0.019521     0.002338   0.021516    0.102775   \n",
       "\n",
       "       TrafficType  Month_Nov  VisitorType_Returning_Visitor  Revenue  \n",
       "0         0.263158        0.0                            1.0      0.0  \n",
       "1         0.157895        0.0                            1.0      0.0  \n",
       "2         0.052632        0.0                            1.0      0.0  \n",
       "3         0.368421        0.0                            1.0      0.0  \n",
       "4         0.000000        0.0                            1.0      0.0  \n",
       "...            ...        ...                            ...      ...  \n",
       "10926     0.157895        0.0                            1.0      1.0  \n",
       "10927     0.147044        0.0                            1.0      1.0  \n",
       "10928     0.052632        1.0                            0.0      1.0  \n",
       "10929     0.028847        0.0                            1.0      1.0  \n",
       "10930     0.060752        1.0                            1.0      1.0  \n",
       "\n",
       "[10931 rows x 11 columns]"
      ]
     },
     "execution_count": 100,
     "metadata": {},
     "output_type": "execute_result"
    }
   ],
   "source": [
    "balanced_dataset_test"
   ]
  },
  {
   "cell_type": "code",
   "execution_count": 101,
   "id": "bda322c1-af5e-4f73-90b2-5baf5d901909",
   "metadata": {},
   "outputs": [],
   "source": [
    "balanced_dataset_test.to_csv('balanced_dataset_test.csv', index = False)"
   ]
  },
  {
   "cell_type": "markdown",
   "id": "0ae87bf9-77e6-4bc6-a773-acdff6881562",
   "metadata": {},
   "source": [
    "**Save filtered validation set to CSV**"
   ]
  },
  {
   "cell_type": "code",
   "execution_count": 102,
   "id": "a00211b9-dba8-4129-94b5-8b2f293301d9",
   "metadata": {},
   "outputs": [],
   "source": [
    "valid_set = pd.concat([x_valid_fs, y_valid], axis=1)"
   ]
  },
  {
   "cell_type": "code",
   "execution_count": 103,
   "id": "11860b31-1d9f-4a89-801b-71d7209b44ab",
   "metadata": {},
   "outputs": [],
   "source": [
    "valid_set.to_csv('valid_set.csv', index=False)"
   ]
  },
  {
   "cell_type": "code",
   "execution_count": 4,
   "id": "011fb933-177e-40d2-a37f-c141d4edd1c0",
   "metadata": {},
   "outputs": [],
   "source": [
    "balanced_dataset = pd.read_csv('/notebooks/E-Commerce_Purchasing_Cls/balanced_dataset_test.csv')"
   ]
  },
  {
   "cell_type": "code",
   "execution_count": 5,
   "id": "cd5b4189-b3e0-40ee-8284-8dcb17561b8e",
   "metadata": {},
   "outputs": [],
   "source": [
    "x_train = balanced_dataset.drop('Revenue', axis=1)\n",
    "y_train = balanced_dataset['Revenue']"
   ]
  },
  {
   "cell_type": "code",
   "execution_count": 6,
   "id": "bed33a75-cdf0-44d3-9891-afc7cf547d33",
   "metadata": {},
   "outputs": [],
   "source": [
    "validation_dataset = pd.read_csv('/notebooks/E-Commerce_Purchasing_Cls/valid_set.csv')"
   ]
  },
  {
   "cell_type": "code",
   "execution_count": 7,
   "id": "d4eb4bcf-d94b-47e0-b923-218414b49d31",
   "metadata": {},
   "outputs": [],
   "source": [
    "x_valid = validation_dataset.drop('Revenue', axis=1)\n",
    "y_valid = validation_dataset['Revenue']"
   ]
  },
  {
   "cell_type": "markdown",
   "id": "b2b7593f-801e-47a3-a1fd-2877cdbb47c3",
   "metadata": {},
   "source": [
    "---------"
   ]
  },
  {
   "cell_type": "markdown",
   "id": "6341ba7d-a672-484f-9342-6d8d2eb13c64",
   "metadata": {},
   "source": [
    "**Random Forest**"
   ]
  },
  {
   "cell_type": "markdown",
   "id": "18dc839f-bbb0-4ecc-9105-023972275cbf",
   "metadata": {},
   "source": [
    "Basic Model"
   ]
  },
  {
   "cell_type": "code",
   "execution_count": 10,
   "id": "9bd76139-fb0c-4a35-8e33-20fc2ae9c8a4",
   "metadata": {},
   "outputs": [
    {
     "name": "stdout",
     "output_type": "stream",
     "text": [
      "Confusion Matrix\n",
      " [[1703  174]\n",
      " [ 103  240]]\n"
     ]
    }
   ],
   "source": [
    "rf_clf = RandomForestClassifier()\n",
    "rf_clf.fit(x_train,y_train)\n",
    "\n",
    "y_train_pred = rf_clf.predict(x_train)\n",
    "y_valid_pred = rf_clf.predict(x_valid)\n",
    "\n",
    "print('Confusion Matrix\\n',confusion_matrix(y_valid,y_valid_pred))"
   ]
  },
  {
   "cell_type": "code",
   "execution_count": 11,
   "id": "1ea5dee3-76df-4fd9-ace5-293f9fe4a3d0",
   "metadata": {},
   "outputs": [
    {
     "name": "stdout",
     "output_type": "stream",
     "text": [
      "Training Set\n",
      "               precision    recall  f1-score   support\n",
      "\n",
      "           0       1.00      1.00      1.00      6430\n",
      "           1       1.00      1.00      1.00      4501\n",
      "\n",
      "    accuracy                           1.00     10931\n",
      "   macro avg       1.00      1.00      1.00     10931\n",
      "weighted avg       1.00      1.00      1.00     10931\n",
      "\n",
      "Validation Set\n",
      "               precision    recall  f1-score   support\n",
      "\n",
      "           0       0.94      0.91      0.92      1877\n",
      "           1       0.58      0.70      0.63       343\n",
      "\n",
      "    accuracy                           0.88      2220\n",
      "   macro avg       0.76      0.80      0.78      2220\n",
      "weighted avg       0.89      0.88      0.88      2220\n",
      "\n"
     ]
    }
   ],
   "source": [
    "# Define classes within Dependent Variable\n",
    "target_names = ['0', '1'] \n",
    "\n",
    "print(\"Training Set\\n\",classification_report(y_train, y_train_pred, target_names=target_names))\n",
    "print(\"Validation Set\\n\",classification_report(y_valid, y_valid_pred, target_names=target_names))"
   ]
  },
  {
   "cell_type": "markdown",
   "id": "ab6bd4ec-988d-4fd0-97d7-3c8862415b96",
   "metadata": {},
   "source": [
    "Tuned Model"
   ]
  },
  {
   "cell_type": "code",
   "execution_count": 120,
   "id": "42f68495-adba-46c1-a9e3-8bfc610533c9",
   "metadata": {},
   "outputs": [],
   "source": [
    "param_grid = {\n",
    "    'bootstrap': [True, False],\n",
    "    'max_depth': [20, 30, 40],\n",
    "    'min_samples_leaf': [5, 10, 15],\n",
    "    'min_samples_split': [2, 6, 10],\n",
    "    'n_estimators': [80, 120, 150, 200]\n",
    "}\n",
    "\n",
    "rf_clf = RandomForestClassifier()\n",
    "grid_search_rf = GridSearchCV(estimator = rf_clf, param_grid = param_grid, \n",
    "                          cv = 4, n_jobs = -1)\n"
   ]
  },
  {
   "cell_type": "code",
   "execution_count": 121,
   "id": "b52b95fb-5b21-4f4a-bb6a-10c0a7143e00",
   "metadata": {},
   "outputs": [
    {
     "data": {
      "text/plain": [
       "{'bootstrap': False,\n",
       " 'max_depth': 40,\n",
       " 'min_samples_leaf': 5,\n",
       " 'min_samples_split': 10,\n",
       " 'n_estimators': 120}"
      ]
     },
     "execution_count": 121,
     "metadata": {},
     "output_type": "execute_result"
    }
   ],
   "source": [
    "grid_search_rf.fit(x_train, y_train)\n",
    "grid_search_rf.best_params_"
   ]
  },
  {
   "cell_type": "markdown",
   "id": "20fee676-76cf-4b51-8480-aef3c3b0346a",
   "metadata": {},
   "source": [
    "Train the model across the entire training set using identified best hyperparameters"
   ]
  },
  {
   "cell_type": "code",
   "execution_count": 20,
   "id": "8c63d192-6087-48d3-85bb-a756afadd580",
   "metadata": {},
   "outputs": [
    {
     "name": "stdout",
     "output_type": "stream",
     "text": [
      "Confusion Matrix\n",
      " [[1700  177]\n",
      " [  95  248]]\n"
     ]
    }
   ],
   "source": [
    "# Retrain model with best hyperparameters\n",
    "\n",
    "rf_clf_tuned = RandomForestClassifier(bootstrap=False,\n",
    "                                      max_depth=40,\n",
    "                                      min_samples_leaf=5,\n",
    "                                      min_samples_split=10,\n",
    "                                      n_estimators=120)\n",
    "rf_clf_tuned.fit(x_train,y_train)\n",
    "y_train_tuned_pred = rf_clf_tuned.predict(x_train)\n",
    "y_valid_tuned_pred = rf_clf_tuned.predict(x_valid)\n",
    "\n",
    "print('Confusion Matrix\\n',confusion_matrix(y_valid,y_valid_tuned_pred))"
   ]
  },
  {
   "cell_type": "code",
   "execution_count": 21,
   "id": "b35fab77-739f-4f25-92e6-2309e0a469a7",
   "metadata": {},
   "outputs": [
    {
     "name": "stdout",
     "output_type": "stream",
     "text": [
      "Training Set\n",
      "               precision    recall  f1-score   support\n",
      "\n",
      "           0       0.98      0.98      0.98      6430\n",
      "           1       0.97      0.97      0.97      4501\n",
      "\n",
      "    accuracy                           0.98     10931\n",
      "   macro avg       0.98      0.97      0.97     10931\n",
      "weighted avg       0.98      0.98      0.98     10931\n",
      "\n",
      "Validation Set\n",
      "               precision    recall  f1-score   support\n",
      "\n",
      "           0       0.95      0.91      0.93      1877\n",
      "           1       0.58      0.72      0.65       343\n",
      "\n",
      "    accuracy                           0.88      2220\n",
      "   macro avg       0.77      0.81      0.79      2220\n",
      "weighted avg       0.89      0.88      0.88      2220\n",
      "\n"
     ]
    }
   ],
   "source": [
    "# Define classes within Dependent Variable\n",
    "\n",
    "target_names = ['0', '1'] \n",
    "\n",
    "print(\"Training Set\\n\",classification_report( y_train, y_train_tuned_pred, target_names=target_names))\n",
    "print(\"Validation Set\\n\",classification_report(y_valid, y_valid_tuned_pred, target_names=target_names))"
   ]
  },
  {
   "cell_type": "markdown",
   "id": "47747580-d47d-4120-87b3-6300f5a56cf6",
   "metadata": {},
   "source": [
    "-------\n",
    "**K Nearest Neighbours**"
   ]
  },
  {
   "cell_type": "code",
   "execution_count": 14,
   "id": "4a07cb13-8f7e-415b-a367-95f31ab83994",
   "metadata": {},
   "outputs": [
    {
     "data": {
      "text/plain": [
       "array([0.81531532, 0.83828829, 0.81531532, 0.83693694, 0.81081081,\n",
       "       0.82567568, 0.80855856, 0.83018018, 0.81486486, 0.83018018,\n",
       "       0.81441441, 0.82792793, 0.81261261, 0.82792793, 0.81756757,\n",
       "       0.83018018, 0.81621622, 0.83063063, 0.81981982, 0.83243243])"
      ]
     },
     "execution_count": 14,
     "metadata": {},
     "output_type": "execute_result"
    }
   ],
   "source": [
    "mean_acc = np.zeros(20)\n",
    "for i in range(1,21):\n",
    "    #Train Model and Predict  \n",
    "    knn = KNeighborsClassifier(n_neighbors = i).fit(x_train,y_train)\n",
    "    y_pred_knn= knn.predict(x_valid)\n",
    "    mean_acc[i-1] = metrics.accuracy_score(y_valid, y_pred_knn)\n",
    "    \n",
    "mean_acc"
   ]
  },
  {
   "cell_type": "code",
   "execution_count": 15,
   "id": "69bc4360-4a6f-4482-8a76-eb0f432c5605",
   "metadata": {},
   "outputs": [
    {
     "data": {
      "image/png": "[encoded data removed]",
      "text/plain": [
       "<Figure size 720x432 with 1 Axes>"
      ]
     },
     "metadata": {
      "needs_background": "light"
     },
     "output_type": "display_data"
    }
   ],
   "source": [
    "loc = np.arange(1,21,step=1.0)\n",
    "plt.figure(figsize = (10, 6))\n",
    "plt.plot(range(1,21), mean_acc)\n",
    "plt.xticks(loc)\n",
    "plt.xlabel('Number of Neighbors ')\n",
    "plt.ylabel('Accuracy')\n",
    "plt.show()"
   ]
  },
  {
   "cell_type": "code",
   "execution_count": 16,
   "id": "a26299c0-bf95-4398-8b34-528b0b4f1f12",
   "metadata": {},
   "outputs": [
    {
     "name": "stdout",
     "output_type": "stream",
     "text": [
      "Confusion Matrix\n",
      " [[1705  172]\n",
      " [ 187  156]]\n"
     ]
    }
   ],
   "source": [
    "KNN_tuned = KNeighborsClassifier(n_neighbors = 2)\n",
    "KNN_tuned.fit(x_train, y_train)\n",
    "\n",
    "y_train_KNN_tuned = KNN_tuned.predict(x_train)\n",
    "y_valid_KNN_tuned = KNN_tuned.predict(x_valid)\n",
    "print('Confusion Matrix\\n',confusion_matrix(y_valid,y_valid_KNN_tuned))"
   ]
  },
  {
   "cell_type": "code",
   "execution_count": 17,
   "id": "e83005d1-9d75-4fe5-a55f-b526f707d3cd",
   "metadata": {},
   "outputs": [
    {
     "name": "stdout",
     "output_type": "stream",
     "text": [
      "Training Set\n",
      "               precision    recall  f1-score   support\n",
      "\n",
      "           0       0.97      1.00      0.99      6430\n",
      "           1       1.00      0.96      0.98      4501\n",
      "\n",
      "    accuracy                           0.98     10931\n",
      "   macro avg       0.99      0.98      0.98     10931\n",
      "weighted avg       0.98      0.98      0.98     10931\n",
      "\n",
      "Validation Set\n",
      "               precision    recall  f1-score   support\n",
      "\n",
      "           0       0.90      0.91      0.90      1877\n",
      "           1       0.48      0.45      0.46       343\n",
      "\n",
      "    accuracy                           0.84      2220\n",
      "   macro avg       0.69      0.68      0.68      2220\n",
      "weighted avg       0.84      0.84      0.84      2220\n",
      "\n"
     ]
    }
   ],
   "source": [
    "target_names = ['0', '1'] \n",
    "\n",
    "print(\"Training Set\\n\",classification_report(y_train, y_train_KNN_tuned, target_names=target_names))\n",
    "print(\"Validation Set\\n\",classification_report(y_valid, y_valid_KNN_tuned, target_names=target_names))"
   ]
  },
  {
   "cell_type": "markdown",
   "id": "6b1d2a7d-281b-401f-9d36-f176e3f95e1e",
   "metadata": {},
   "source": [
    "Tuned Model"
   ]
  },
  {
   "cell_type": "code",
   "execution_count": 133,
   "id": "56d7bf03-865c-48f8-98d7-aac6bb372348",
   "metadata": {},
   "outputs": [],
   "source": [
    "params = { 'n_neighbors' : [2,3,4,5,7,9,11,13],\n",
    "           'weights' : ['uniform','distance'],\n",
    "           'metric' : ['minkowski','euclidean','manhattan']\n",
    "         }\n",
    "\n",
    "knn = KNeighborsClassifier()\n",
    "grid_search_knn = GridSearchCV(estimator = knn, param_grid = params, cv = 4, n_jobs = -1)\n"
   ]
  },
  {
   "cell_type": "code",
   "execution_count": 134,
   "id": "023070c2-63ac-4d83-8460-8e69973905b9",
   "metadata": {},
   "outputs": [
    {
     "data": {
      "text/plain": [
       "{'metric': 'manhattan', 'n_neighbors': 2, 'weights': 'distance'}"
      ]
     },
     "execution_count": 134,
     "metadata": {},
     "output_type": "execute_result"
    }
   ],
   "source": [
    "grid_search_knn.fit(x_train, y_train)\n",
    "grid_search_knn.best_params_"
   ]
  },
  {
   "cell_type": "code",
   "execution_count": 22,
   "id": "b4b7552f-cbb5-404c-97c5-05526de5a411",
   "metadata": {},
   "outputs": [
    {
     "name": "stdout",
     "output_type": "stream",
     "text": [
      "Confusion Matrix\n",
      " [[1664  213]\n",
      " [ 178  165]]\n"
     ]
    }
   ],
   "source": [
    "# Retrain model with best hyperparameters\n",
    "\n",
    "KNN_tuned_2 = KNeighborsClassifier(n_neighbors = 2, metric = 'manhattan', weights = 'distance')\n",
    "KNN_tuned_2.fit(x_train, y_train)\n",
    "\n",
    "y_train_KNN_tuned_2 = KNN_tuned_2.predict(x_train)\n",
    "y_valid_KNN_tuned_2 = KNN_tuned_2.predict(x_valid)\n",
    "print('Confusion Matrix\\n',confusion_matrix(y_valid,y_valid_KNN_tuned_2))"
   ]
  },
  {
   "cell_type": "code",
   "execution_count": 23,
   "id": "b1f3ec1f-3de6-4ad4-b565-ce5d428cc439",
   "metadata": {},
   "outputs": [
    {
     "name": "stdout",
     "output_type": "stream",
     "text": [
      "Training Set\n",
      "               precision    recall  f1-score   support\n",
      "\n",
      "           0       0.97      1.00      0.99      6430\n",
      "           1       1.00      0.96      0.98      4501\n",
      "\n",
      "    accuracy                           0.98     10931\n",
      "   macro avg       0.99      0.98      0.98     10931\n",
      "weighted avg       0.98      0.98      0.98     10931\n",
      "\n",
      "Validation Set\n",
      "               precision    recall  f1-score   support\n",
      "\n",
      "           0       0.90      0.91      0.90      1877\n",
      "           1       0.48      0.45      0.46       343\n",
      "\n",
      "    accuracy                           0.84      2220\n",
      "   macro avg       0.69      0.68      0.68      2220\n",
      "weighted avg       0.84      0.84      0.84      2220\n",
      "\n"
     ]
    }
   ],
   "source": [
    "target_names = ['0', '1'] \n",
    "\n",
    "print(\"Training Set\\n\",classification_report(y_train, y_train_KNN_tuned, target_names=target_names))\n",
    "print(\"Validation Set\\n\",classification_report(y_valid, y_valid_KNN_tuned, target_names=target_names))"
   ]
  },
  {
   "cell_type": "markdown",
   "id": "c5b54b3f-a2a8-484f-b61e-07daee294076",
   "metadata": {},
   "source": [
    "-------"
   ]
  },
  {
   "cell_type": "markdown",
   "id": "0ecc937b-1798-4d37-ac9b-0460d0eb61e6",
   "metadata": {},
   "source": [
    "**Support Vector Machines**"
   ]
  },
  {
   "cell_type": "markdown",
   "id": "c1eb93be-548b-4c99-8b40-0be0dfef65f9",
   "metadata": {},
   "source": [
    "Basic Model"
   ]
  },
  {
   "cell_type": "code",
   "execution_count": 29,
   "id": "365816a8-1991-40bb-9de8-83d8ef2dd570",
   "metadata": {},
   "outputs": [
    {
     "name": "stdout",
     "output_type": "stream",
     "text": [
      "Confusion Matrix\n",
      " [[1703  174]\n",
      " [ 103  240]]\n"
     ]
    }
   ],
   "source": [
    "svm = SVC()\n",
    "svm.fit(x_train, y_train)\n",
    "\n",
    "y_train_pred_svm = svm.predict(x_train)\n",
    "y_valid_pred_svm = svm.predict(x_valid)\n",
    "\n",
    "print('Confusion Matrix\\n',confusion_matrix(y_valid,y_valid_pred))"
   ]
  },
  {
   "cell_type": "code",
   "execution_count": 139,
   "id": "2083ea3f-f0b0-46ce-8760-eec497472211",
   "metadata": {},
   "outputs": [
    {
     "name": "stdout",
     "output_type": "stream",
     "text": [
      "Training Set\n",
      "               precision    recall  f1-score   support\n",
      "\n",
      "           0       0.82      0.92      0.87      6430\n",
      "           1       0.86      0.71      0.78      4501\n",
      "\n",
      "    accuracy                           0.84     10931\n",
      "   macro avg       0.84      0.82      0.82     10931\n",
      "weighted avg       0.84      0.84      0.83     10931\n",
      "\n",
      "Validation Set\n",
      "               precision    recall  f1-score   support\n",
      "\n",
      "           0       0.94      0.91      0.92      1877\n",
      "           1       0.58      0.67      0.62       343\n",
      "\n",
      "    accuracy                           0.87      2220\n",
      "   macro avg       0.76      0.79      0.77      2220\n",
      "weighted avg       0.88      0.87      0.88      2220\n",
      "\n"
     ]
    }
   ],
   "source": [
    "target_names = ['0', '1'] \n",
    "\n",
    "print(\"Training Set\\n\",classification_report(y_train, y_train_pred_svm, target_names=target_names))\n",
    "print(\"Validation Set\\n\",classification_report(y_valid, y_valid_pred_svm, target_names=target_names))"
   ]
  },
  {
   "cell_type": "markdown",
   "id": "f16de9d8-ef5d-4f8e-ab98-81ab586dfdd6",
   "metadata": {},
   "source": [
    "Tuned Model"
   ]
  },
  {
   "cell_type": "code",
   "execution_count": 30,
   "id": "b4cba8c3-1d1f-4ea1-a408-6d989704eb03",
   "metadata": {},
   "outputs": [],
   "source": [
    "params = {'C': [0.1,1, 10, 100], \n",
    "          'gamma': [1,0.1,0.01,0.001],\n",
    "          'kernel': ['rbf', 'poly', 'sigmoid']}\n",
    "\n",
    "svm = SVC()\n",
    "grid_search_svm = GridSearchCV(estimator = svm, param_grid = params, cv = 4, n_jobs = -1)"
   ]
  },
  {
   "cell_type": "code",
   "execution_count": 141,
   "id": "88c32e64-5256-4188-b1e1-19a0ce1a9d51",
   "metadata": {},
   "outputs": [
    {
     "data": {
      "text/plain": [
       "{'C': 100, 'gamma': 1, 'kernel': 'rbf'}"
      ]
     },
     "execution_count": 141,
     "metadata": {},
     "output_type": "execute_result"
    }
   ],
   "source": [
    "grid_search_svm.fit(x_train, y_train)\n",
    "grid_search_svm.best_params_"
   ]
  },
  {
   "cell_type": "code",
   "execution_count": 31,
   "id": "d54cdc75-44a3-427c-98be-7bab2cb60a8d",
   "metadata": {},
   "outputs": [
    {
     "name": "stdout",
     "output_type": "stream",
     "text": [
      "Confusion Matrix\n",
      " [[1696  181]\n",
      " [  99  244]]\n"
     ]
    }
   ],
   "source": [
    "# Retrain model with best hyperparameters\n",
    "\n",
    "svm_tuned = SVC(C=100, gamma=1, kernel='rbf')\n",
    "svm_tuned.fit(x_train, y_train)\n",
    "\n",
    "y_train_svm_tuned = svm_tuned.predict(x_train)\n",
    "y_valid_svm_tuned = svm_tuned.predict(x_valid)\n",
    "print('Confusion Matrix\\n',confusion_matrix(y_valid,y_valid_svm_tuned))"
   ]
  },
  {
   "cell_type": "code",
   "execution_count": 32,
   "id": "e6b59bb1-4335-4463-82c8-e55a23054ab5",
   "metadata": {},
   "outputs": [
    {
     "name": "stdout",
     "output_type": "stream",
     "text": [
      "Training Set\n",
      "               precision    recall  f1-score   support\n",
      "\n",
      "           0       0.85      0.92      0.89      6430\n",
      "           1       0.87      0.78      0.82      4501\n",
      "\n",
      "    accuracy                           0.86     10931\n",
      "   macro avg       0.86      0.85      0.85     10931\n",
      "weighted avg       0.86      0.86      0.86     10931\n",
      "\n",
      "Validation Set\n",
      "               precision    recall  f1-score   support\n",
      "\n",
      "           0       0.94      0.90      0.92      1877\n",
      "           1       0.57      0.71      0.64       343\n",
      "\n",
      "    accuracy                           0.87      2220\n",
      "   macro avg       0.76      0.81      0.78      2220\n",
      "weighted avg       0.89      0.87      0.88      2220\n",
      "\n"
     ]
    }
   ],
   "source": [
    "target_names = ['0', '1'] \n",
    "\n",
    "print(\"Training Set\\n\",classification_report(y_train, y_train_svm_tuned, target_names=target_names))\n",
    "print(\"Validation Set\\n\",classification_report(y_valid, y_valid_svm_tuned, target_names=target_names))"
   ]
  },
  {
   "cell_type": "markdown",
   "id": "d3b42af1-cef4-42c6-9acb-a69384b893cd",
   "metadata": {},
   "source": [
    "----------\n",
    "-------------"
   ]
  },
  {
   "cell_type": "markdown",
   "id": "1b112510-6ee4-4f70-afbc-d78f326c9b45",
   "metadata": {},
   "source": [
    "## Evaluating Model Performance"
   ]
  },
  {
   "cell_type": "code",
   "execution_count": 34,
   "id": "e99ba712-dba1-4fe5-8d15-0eb95cd94913",
   "metadata": {},
   "outputs": [],
   "source": [
    "df_test = pd.read_csv('online_shopper_test_set.csv')\n",
    "\n",
    "# Encode Categorical features\n",
    "df_test = pd.get_dummies(df_test, columns=['Month','VisitorType'], drop_first=True)\n",
    "df_test['Revenue'] = df_test['Revenue'].astype(int)\n",
    "df_test['Revenue'].value_counts()\n",
    "df_test['Weekend'] = df_test['Weekend'].astype(int)\n",
    "df_test['Weekend'].value_counts()\n",
    "\n",
    "# Apply MinMax normalization on features\n",
    "scaler = MinMaxScaler()\n",
    "df_test[df_test.columns] = scaler.fit_transform(df_test[df_test.columns]) \n",
    "\n",
    "# Filter features based on Feature Selection \n",
    "df_test = df_test[['Administrative', 'Administrative_Duration', 'ProductRelated', 'ProductRelated_Duration', 'BounceRates', 'ExitRates',\n",
    "            'PageValues', 'TrafficType', 'Month_Nov', 'VisitorType_Returning_Visitor', 'Revenue']]\n",
    "\n",
    "# Label x and y values \n",
    "x_test = df_test.drop('Revenue', axis = 1)\n",
    "y_test = df_test['Revenue']"
   ]
  },
  {
   "cell_type": "code",
   "execution_count": 40,
   "id": "0efd5bd2-a0d1-42d0-a95c-be8aa2dacdae",
   "metadata": {},
   "outputs": [
    {
     "name": "stdout",
     "output_type": "stream",
     "text": [
      "Test Set (RF)\n",
      "               precision    recall  f1-score   support\n",
      "\n",
      "           0       0.94      0.93      0.94      1042\n",
      "           1       0.65      0.67      0.66       191\n",
      "\n",
      "    accuracy                           0.89      1233\n",
      "   macro avg       0.80      0.80      0.80      1233\n",
      "weighted avg       0.89      0.89      0.89      1233\n",
      "\n"
     ]
    }
   ],
   "source": [
    "y_test_rf_pred = rf_clf_tuned.predict(x_test)\n",
    "print(\"Test Set (RF)\\n\",classification_report(y_test, y_test_rf_pred, target_names=target_names))"
   ]
  },
  {
   "cell_type": "code",
   "execution_count": 38,
   "id": "12eb5e1b-bf08-47de-8113-1e8a9e1d8a44",
   "metadata": {},
   "outputs": [
    {
     "name": "stdout",
     "output_type": "stream",
     "text": [
      "Test Set (KNN)\n",
      "               precision    recall  f1-score   support\n",
      "\n",
      "           0       0.92      0.90      0.91      1042\n",
      "           1       0.50      0.54      0.52       191\n",
      "\n",
      "    accuracy                           0.85      1233\n",
      "   macro avg       0.71      0.72      0.72      1233\n",
      "weighted avg       0.85      0.85      0.85      1233\n",
      "\n"
     ]
    }
   ],
   "source": [
    "y_test_knn_tuned = KNN_tuned_2.predict(x_test)\n",
    "print(\"Test Set (KNN)\\n\",classification_report(y_test, y_test_knn_tuned, target_names=target_names))"
   ]
  },
  {
   "cell_type": "code",
   "execution_count": 39,
   "id": "db4f6a2c-e344-42c8-8a44-12fd16b3df86",
   "metadata": {},
   "outputs": [
    {
     "name": "stdout",
     "output_type": "stream",
     "text": [
      "Test Set (SVM)\n",
      "               precision    recall  f1-score   support\n",
      "\n",
      "           0       0.95      0.90      0.92      1042\n",
      "           1       0.58      0.72      0.64       191\n",
      "\n",
      "    accuracy                           0.88      1233\n",
      "   macro avg       0.76      0.81      0.78      1233\n",
      "weighted avg       0.89      0.88      0.88      1233\n",
      "\n"
     ]
    }
   ],
   "source": [
    "y_test_svm_tuned = svm_tuned.predict(x_test)\n",
    "print(\"Test Set (SVM)\\n\",classification_report(y_test, y_test_svm_tuned, target_names=target_names))"
   ]
  },
  {
   "cell_type": "markdown",
   "id": "898df472-9352-463e-bf3d-c67772def922",
   "metadata": {},
   "source": [
    "Although the highest performance was observed from random forest model, SVM was able to a more balance recall value across both classes. Hence the trained SVM model is more reliable given an unbalanced test set."
   ]
  },
  {
   "cell_type": "markdown",
   "id": "f77a58df-18b3-412f-9055-aa75234b774d",
   "metadata": {},
   "source": [
    "## Clustering"
   ]
  },
  {
   "cell_type": "code",
   "execution_count": 62,
   "id": "e6119c75-15cd-45d6-b3f8-1e9d6b734402",
   "metadata": {},
   "outputs": [],
   "source": [
    "from sklearn.cluster import KMeans\n",
    "from sklearn.decomposition import PCA"
   ]
  },
  {
   "cell_type": "code",
   "execution_count": 73,
   "id": "0cec5662-703a-4014-82b6-f49edd1e172f",
   "metadata": {},
   "outputs": [],
   "source": [
    "pca = PCA(5)\n",
    "df3 = pca.fit_transform(df2)"
   ]
  },
  {
   "cell_type": "code",
   "execution_count": 74,
   "id": "b819ba44-26ee-4bbd-9f71-98622e5dcf9b",
   "metadata": {},
   "outputs": [
    {
     "data": {
      "text/html": [
       "<style>#sk-container-id-1 {color: black;background-color: white;}#sk-container-id-1 pre{padding: 0;}#sk-container-id-1 div.sk-toggleable {background-color: white;}#sk-container-id-1 label.sk-toggleable__label {cursor: pointer;display: block;width: 100%;margin-bottom: 0;padding: 0.3em;box-sizing: border-box;text-align: center;}#sk-container-id-1 label.sk-toggleable__label-arrow:before {content: \"▸\";float: left;margin-right: 0.25em;color: #696969;}#sk-container-id-1 label.sk-toggleable__label-arrow:hover:before {color: black;}#sk-container-id-1 div.sk-estimator:hover label.sk-toggleable__label-arrow:before {color: black;}#sk-container-id-1 div.sk-toggleable__content {max-height: 0;max-width: 0;overflow: hidden;text-align: left;background-color: #f0f8ff;}#sk-container-id-1 div.sk-toggleable__content pre {margin: 0.2em;color: black;border-radius: 0.25em;background-color: #f0f8ff;}#sk-container-id-1 input.sk-toggleable__control:checked~div.sk-toggleable__content {max-height: 200px;max-width: 100%;overflow: auto;}#sk-container-id-1 input.sk-toggleable__control:checked~label.sk-toggleable__label-arrow:before {content: \"▾\";}#sk-container-id-1 div.sk-estimator input.sk-toggleable__control:checked~label.sk-toggleable__label {background-color: #d4ebff;}#sk-container-id-1 div.sk-label input.sk-toggleable__control:checked~label.sk-toggleable__label {background-color: #d4ebff;}#sk-container-id-1 input.sk-hidden--visually {border: 0;clip: rect(1px 1px 1px 1px);clip: rect(1px, 1px, 1px, 1px);height: 1px;margin: -1px;overflow: hidden;padding: 0;position: absolute;width: 1px;}#sk-container-id-1 div.sk-estimator {font-family: monospace;background-color: #f0f8ff;border: 1px dotted black;border-radius: 0.25em;box-sizing: border-box;margin-bottom: 0.5em;}#sk-container-id-1 div.sk-estimator:hover {background-color: #d4ebff;}#sk-container-id-1 div.sk-parallel-item::after {content: \"\";width: 100%;border-bottom: 1px solid gray;flex-grow: 1;}#sk-container-id-1 div.sk-label:hover label.sk-toggleable__label {background-color: #d4ebff;}#sk-container-id-1 div.sk-serial::before {content: \"\";position: absolute;border-left: 1px solid gray;box-sizing: border-box;top: 0;bottom: 0;left: 50%;z-index: 0;}#sk-container-id-1 div.sk-serial {display: flex;flex-direction: column;align-items: center;background-color: white;padding-right: 0.2em;padding-left: 0.2em;position: relative;}#sk-container-id-1 div.sk-item {position: relative;z-index: 1;}#sk-container-id-1 div.sk-parallel {display: flex;align-items: stretch;justify-content: center;background-color: white;position: relative;}#sk-container-id-1 div.sk-item::before, #sk-container-id-1 div.sk-parallel-item::before {content: \"\";position: absolute;border-left: 1px solid gray;box-sizing: border-box;top: 0;bottom: 0;left: 50%;z-index: -1;}#sk-container-id-1 div.sk-parallel-item {display: flex;flex-direction: column;z-index: 1;position: relative;background-color: white;}#sk-container-id-1 div.sk-parallel-item:first-child::after {align-self: flex-end;width: 50%;}#sk-container-id-1 div.sk-parallel-item:last-child::after {align-self: flex-start;width: 50%;}#sk-container-id-1 div.sk-parallel-item:only-child::after {width: 0;}#sk-container-id-1 div.sk-dashed-wrapped {border: 1px dashed gray;margin: 0 0.4em 0.5em 0.4em;box-sizing: border-box;padding-bottom: 0.4em;background-color: white;}#sk-container-id-1 div.sk-label label {font-family: monospace;font-weight: bold;display: inline-block;line-height: 1.2em;}#sk-container-id-1 div.sk-label-container {text-align: center;}#sk-container-id-1 div.sk-container {/* jupyter's `normalize.less` sets `[hidden] { display: none; }` but bootstrap.min.css set `[hidden] { display: none !important; }` so we also need the `!important` here to be able to override the default hidden behavior on the sphinx rendered scikit-learn.org. See: https://github.com/scikit-learn/scikit-learn/issues/21755 */display: inline-block !important;position: relative;}#sk-container-id-1 div.sk-text-repr-fallback {display: none;}</style><div id=\"sk-container-id-1\" class=\"sk-top-container\"><div class=\"sk-text-repr-fallback\"><pre>KMeans(n_clusters=4)</pre><b>In a Jupyter environment, please rerun this cell to show the HTML representation or trust the notebook. <br />On GitHub, the HTML representation is unable to render, please try loading this page with nbviewer.org.</b></div><div class=\"sk-container\" hidden><div class=\"sk-item\"><div class=\"sk-estimator sk-toggleable\"><input class=\"sk-toggleable__control sk-hidden--visually\" id=\"sk-estimator-id-1\" type=\"checkbox\" checked><label for=\"sk-estimator-id-1\" class=\"sk-toggleable__label sk-toggleable__label-arrow\">KMeans</label><div class=\"sk-toggleable__content\"><pre>KMeans(n_clusters=4)</pre></div></div></div></div></div>"
      ],
      "text/plain": [
       "KMeans(n_clusters=4)"
      ]
     },
     "execution_count": 74,
     "metadata": {},
     "output_type": "execute_result"
    }
   ],
   "source": [
    "kmeans = KMeans(4)\n",
    "kmeans.fit(df3)"
   ]
  },
  {
   "cell_type": "code",
   "execution_count": 75,
   "id": "d68fcdd4-8af2-4043-8fed-6ecc81b4f519",
   "metadata": {},
   "outputs": [
    {
     "data": {
      "text/plain": [
       "array([3, 3, 3, ..., 0, 0, 0], dtype=int32)"
      ]
     },
     "execution_count": 75,
     "metadata": {},
     "output_type": "execute_result"
    }
   ],
   "source": [
    "identified_clusters = kmeans.fit_predict(df3)\n",
    "identified_clusters"
   ]
  },
  {
   "cell_type": "code",
   "execution_count": 76,
   "id": "a837975d-5cd4-4be7-b1be-e5031401d991",
   "metadata": {},
   "outputs": [
    {
     "data": {
      "image/png": "[encoded data removed]",
      "text/plain": [
       "<Figure size 432x288 with 1 Axes>"
      ]
     },
     "metadata": {
      "needs_background": "light"
     },
     "output_type": "display_data"
    }
   ],
   "source": [
    "u_labels = np.unique(identified_clusters)\n",
    " \n",
    "#plotting the results:\n",
    "ax = plt.subplot(111, projection='3d', label=\"bla\")\n",
    " \n",
    "for i in u_labels:\n",
    "    ax.scatter(df3[identified_clusters == i , 0] , df3[identified_clusters == i,1] , label = i)\n",
    "plt.legend()\n",
    "plt.show()"
   ]
  }
 ],
 "metadata": {
  "kernelspec": {
   "display_name": "Python 3 (ipykernel)",
   "language": "python",
   "name": "python3"
  },
  "language_info": {
   "codemirror_mode": {
    "name": "ipython",
    "version": 3
   },
   "file_extension": ".py",
   "mimetype": "text/x-python",
   "name": "python",
   "nbconvert_exporter": "python",
   "pygments_lexer": "ipython3",
   "version": "3.9.13"
  }
 },
 "nbformat": 4,
 "nbformat_minor": 5
}
